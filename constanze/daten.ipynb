{
 "cells": [
  {
   "cell_type": "code",
   "execution_count": 1,
   "metadata": {},
   "outputs": [],
   "source": [
    "import pandas as pd \n",
    "import os\n",
    "\n",
    "import numpy as np\n",
    "import matplotlib.pyplot as plt"
   ]
  },
  {
   "cell_type": "code",
   "execution_count": 75,
   "metadata": {},
   "outputs": [],
   "source": [
    "from scipy.stats import chi2_contingency"
   ]
  },
  {
   "cell_type": "markdown",
   "metadata": {},
   "source": [
    "## Constanze Meeting \n",
    "\n",
    "1. Deskriptive Statistik (Beschreibung der Daten und Bilder)\n",
    "\n",
    "Balkendiagram, wie viel % Frauen oder Männer etc, Häufigkeiten\n",
    "\n",
    "2. Inferenz:\n",
    "\n",
    "Kontingenztabellen (Tabellen zwischen 2 Variablen) \n",
    "\n",
    "- diese auf Unabhängigkeit zu testen \n",
    "\n",
    "- $Chisq^{2}$-Test\n",
    "\n",
    "Fragen:\n",
    "\n",
    "- Korrelationskoeffizient muss auf kategorische Daten angepasst werden\n",
    "\n",
    "- Tabelle: Modus (Wert, der am häufigsten drankommt) statt Durchschnitt\n",
    "\n",
    "- Regression zwischen welchen Variablen ?\n",
    "\n",
    "- Unabhängigkeitstest\n"
   ]
  },
  {
   "cell_type": "markdown",
   "metadata": {},
   "source": [
    "### Daten einlesen "
   ]
  },
  {
   "cell_type": "code",
   "execution_count": 42,
   "metadata": {},
   "outputs": [],
   "source": [
    "df = pd.read_excel('data_per.xlsx')\n",
    "\n",
    "df =df.drop(columns=['CASE','SERIAL','REF','QUESTNNR','MODE','MAILSENT','LASTDATA','STARTED'])\n",
    "\n",
    "df = df.dropna()\n",
    "\n",
    "spalten = []\n",
    "\n",
    "for x in df.loc[0]:\n",
    "    spalten.append(x)\n",
    "    \n",
    "#df.drop(df.index[0])\n",
    "\n",
    "df.columns = spalten\n",
    "\n",
    "df = df.reset_index()\n",
    "\n",
    "df = df.drop(df.index[0])"
   ]
  },
  {
   "cell_type": "markdown",
   "metadata": {},
   "source": [
    "# Correlation"
   ]
  },
  {
   "cell_type": "code",
   "execution_count": 76,
   "metadata": {},
   "outputs": [],
   "source": [
    "contingency = pd.crosstab(df['Polaritätsprofil S1.1: langsam/schnell'],df['Polaritätsprofil S1.1: modern/traditionell'], margins=True)"
   ]
  },
  {
   "cell_type": "code",
   "execution_count": 77,
   "metadata": {},
   "outputs": [],
   "source": [
    "c, p, dof, expected = chi2_contingency(contingency)\n",
    "chi2_contingency(contingency).pvalue"
   ]
  },
  {
   "cell_type": "code",
   "execution_count": 84,
   "metadata": {},
   "outputs": [
    {
     "data": {
      "text/plain": [
       "0.996343726188822"
      ]
     },
     "execution_count": 84,
     "metadata": {},
     "output_type": "execute_result"
    }
   ],
   "source": [
    "chi2_contingency(contingency).pvalue"
   ]
  },
  {
   "cell_type": "code",
   "execution_count": 88,
   "metadata": {},
   "outputs": [
    {
     "data": {
      "text/plain": [
       "0.6996210235458562"
      ]
     },
     "execution_count": 88,
     "metadata": {},
     "output_type": "execute_result"
    }
   ],
   "source": [
    "contingency = pd.crosstab(df['Polaritätsprofil S1.1: langsam/schnell'],df['Geschlecht'], margins=True)\n",
    "c, p, dof, expected = chi2_contingency(contingency)\n",
    "chi2_contingency(contingency).pvalue"
   ]
  },
  {
   "cell_type": "code",
   "execution_count": 89,
   "metadata": {},
   "outputs": [
    {
     "data": {
      "text/plain": [
       "0.6884923803738725"
      ]
     },
     "execution_count": 89,
     "metadata": {},
     "output_type": "execute_result"
    }
   ],
   "source": [
    "contingency = pd.crosstab(df['Polaritätsprofil S1.1: modern/traditionell'],df['Geschlecht'], margins=True)\n",
    "c, p, dof, expected = chi2_contingency(contingency)\n",
    "chi2_contingency(contingency).pvalue"
   ]
  },
  {
   "cell_type": "code",
   "execution_count": 90,
   "metadata": {},
   "outputs": [
    {
     "name": "stdout",
     "output_type": "stream",
     "text": [
      "Polaritätsprofil S1.1: modern/traditionell\n",
      "Bewertung 1 kommt 10\n",
      "Bewertung 2 kommt 15\n",
      "Bewertung 3 kommt 4\n",
      "Bewertung 4 kommt 4\n",
      "Bewertung 5 kommt 0\n"
     ]
    }
   ],
   "source": [
    "Frage = ['Polaritätsprofil S1.1: langsam/schnell','Polaritätsprofil S1.1: modern/traditionell']\n",
    "\n",
    "print('Polaritätsprofil S1.1: modern/traditionell')\n",
    "for x in range(1,6):\n",
    "    print('Bewertung '+ str(x)+ ' kommt ' +str(len(df[df['Polaritätsprofil S1.1: modern/traditionell'] ==x]['Polaritätsprofil S1.1: modern/traditionell'])))\n"
   ]
  },
  {
   "cell_type": "code",
   "execution_count": null,
   "metadata": {},
   "outputs": [],
   "source": []
  }
 ],
 "metadata": {
  "kernelspec": {
   "display_name": "Python 3",
   "language": "python",
   "name": "python3"
  },
  "language_info": {
   "codemirror_mode": {
    "name": "ipython",
    "version": 3
   },
   "file_extension": ".py",
   "mimetype": "text/x-python",
   "name": "python",
   "nbconvert_exporter": "python",
   "pygments_lexer": "ipython3",
   "version": "3.8.5"
  }
 },
 "nbformat": 4,
 "nbformat_minor": 4
}
