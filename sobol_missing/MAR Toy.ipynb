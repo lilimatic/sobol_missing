{
 "cells": [
  {
   "cell_type": "code",
   "execution_count": 1,
   "metadata": {},
   "outputs": [],
   "source": [
    "import numpy as np\n",
    "import pandas as pd \n",
    "import random\n",
    "\n",
    "import seaborn as sns\n",
    "import matplotlib.pyplot as plt\n",
    "\n",
    "from dataload import *"
   ]
  },
  {
   "cell_type": "code",
   "execution_count": 2,
   "metadata": {},
   "outputs": [],
   "source": [
    "n = 1000\n",
    "\n",
    "sim = 1000\n",
    "\n",
    "a = 1\n",
    "b = 1\n",
    "p = 0.2"
   ]
  },
  {
   "cell_type": "code",
   "execution_count": 3,
   "metadata": {},
   "outputs": [],
   "source": [
    "def sobol(request,sim):\n",
    "    sobol_list = []\n",
    "    for x in range(sim):\n",
    "        df      = pd.DataFrame(np.random.uniform(0,1,size=(n, 2)),columns=['X1','X2'])\n",
    "        newdf   = dataset(n,p,df).picked(request,a,b)\n",
    "        df['Y']    = dataset(n,p,df).toyreg()(a,b)\n",
    "        newdf['Y'] = dataset(n,p,newdf).toyreg()(a,b)\n",
    "        sobol_list.append((np.cov(df.Y,newdf.Y)/np.var(df.Y))[0][1])\n",
    "    return sobol_list"
   ]
  },
  {
   "cell_type": "code",
   "execution_count": 4,
   "metadata": {},
   "outputs": [],
   "source": [
    "df           = pd.DataFrame(np.random.uniform(0,1,size=(n, 2)),columns=['X1','X2'])"
   ]
  },
  {
   "cell_type": "code",
   "execution_count": 5,
   "metadata": {},
   "outputs": [],
   "source": [
    "#singletons H-Sample\n",
    "sobol_X1 = sobol(['X1'],sim)\n",
    "sobol_X2 = sobol(['X2'],sim)\n",
    "#plt.boxplot(sobol_X1)\n",
    "#plt.title('')\n",
    "\n",
    "singletons = dict(zip(['X1','X2'],[sobol_X1,sobol_X2]))\n",
    "\n",
    "#fig, ax = plt.subplots()\n",
    "#ax.boxplot(singletons.values())\n",
    "#ax.set_xticklabels(singletons.keys())\n",
    "\n",
    "df_singletons = pd.DataFrame(singletons)"
   ]
  },
  {
   "cell_type": "markdown",
   "metadata": {},
   "source": [
    "### Sobol MAR"
   ]
  },
  {
   "cell_type": "code",
   "execution_count": 6,
   "metadata": {},
   "outputs": [],
   "source": [
    "def sobol_mis_mar(request,sim):\n",
    "    sobol_list = []\n",
    "    for x in range(sim):\n",
    "        df      = pd.DataFrame(np.random.uniform(0,1,size=(n, 2)),columns=['X1','X2'])\n",
    "        cc = dataset(n,p,df).mar(0.2,0.7)\n",
    "        newcc   = dataset(len(cc),p,cc).picked(request,a,b)\n",
    "        cc['Y']    = dataset(len(cc),p,cc).toyreg()(a,b)\n",
    "        newcc['Y'] = dataset(len(cc),p,newcc).toyreg()(a,b)\n",
    "        sobol_list.append((np.cov(cc.Y,newcc.Y)/np.var(cc.Y))[0][1])\n",
    "        pd.options.mode.chained_assignment = None  # default='warn'\n",
    "    return sobol_list"
   ]
  },
  {
   "cell_type": "code",
   "execution_count": 7,
   "metadata": {},
   "outputs": [
    {
     "name": "stderr",
     "output_type": "stream",
     "text": [
      "<ipython-input-6-e202ae7c33b7>:7: SettingWithCopyWarning: \n",
      "A value is trying to be set on a copy of a slice from a DataFrame.\n",
      "Try using .loc[row_indexer,col_indexer] = value instead\n",
      "\n",
      "See the caveats in the documentation: https://pandas.pydata.org/pandas-docs/stable/user_guide/indexing.html#returning-a-view-versus-a-copy\n",
      "  cc['Y']    = dataset(len(cc),p,cc).toyreg()(a,b)\n"
     ]
    }
   ],
   "source": [
    "#singletons test \n",
    "sobol_X1_mis_mar = sobol_mis_mar(['X1'],sim)\n",
    "sobol_X2_mis_mar = sobol_mis_mar(['X2'],sim)\n",
    "\n",
    "#plt.boxplot(sobol_X1_mis_mar)\n",
    "\n",
    "singletons_mis = dict(zip(['X1','X2'],[sobol_X1_mis_mar,sobol_X2_mis_mar]))\n",
    "df_singletons_mis = pd.DataFrame(singletons_mis)"
   ]
  },
  {
   "cell_type": "code",
   "execution_count": 8,
   "metadata": {},
   "outputs": [],
   "source": [
    "#Merge data sets \n",
    "\n",
    "df_singletons_mis['sample'] = 'cc'\n",
    "df_singletons['sample'] = 'complete'\n",
    "cdf = pd.concat([df_singletons, df_singletons_mis],axis=0)  \n",
    "\n",
    "dd = pd.melt(cdf, id_vars= ['sample'],value_vars=['X1','X2'],var_name='Variable')\n",
    "\n",
    "dd = dd.rename(columns={'value':'Sobol index'})"
   ]
  },
  {
   "cell_type": "code",
   "execution_count": 9,
   "metadata": {},
   "outputs": [
    {
     "data": {
      "text/plain": [
       "[(0.2, 0.65)]"
      ]
     },
     "execution_count": 9,
     "metadata": {},
     "output_type": "execute_result"
    },
    {
     "data": {
      "image/png": "[encoded data removed]",
      "text/plain": [
       "<Figure size 432x288 with 1 Axes>"
      ]
     },
     "metadata": {
      "needs_background": "light"
     },
     "output_type": "display_data"
    }
   ],
   "source": [
    "ax =sns.boxplot(x='Variable',y='Sobol index',data=dd,hue='sample',palette=\"Blues\")\n",
    "ax.legend_.remove()\n",
    "ax.set(ylim=(0.2, 0.65))"
   ]
  },
  {
   "cell_type": "code",
   "execution_count": 10,
   "metadata": {},
   "outputs": [],
   "source": [
    "def sobol_mis_mnar(request,sim):\n",
    "    sobol_list = []\n",
    "    for x in range(sim):\n",
    "        df      = pd.DataFrame(np.random.uniform(0,1,size=(n, 2)),columns=['X1','X2'])\n",
    "        cc = dataset(n,p,df).mnar(0.2,0.7)\n",
    "        newcc   = dataset(len(cc),p,cc).picked(request,a,b)\n",
    "        cc['Y']    = dataset(len(cc),p,cc).toyreg()(a,b)\n",
    "        pd.options.mode.chained_assignment = None  # default='warn\n",
    "        newcc['Y'] = dataset(len(cc),p,newcc).toyreg()(a,b)\n",
    "        pd.options.mode.chained_assignment = None  # default='warn\n",
    "        sobol_list.append((np.cov(cc.Y,newcc.Y)/np.var(cc.Y))[0][1])\n",
    "    return sobol_list"
   ]
  },
  {
   "cell_type": "code",
   "execution_count": 11,
   "metadata": {},
   "outputs": [],
   "source": [
    "#sobol_X1_mis_mnar = sobol_mis_mnar(['X1'],sim)"
   ]
  },
  {
   "cell_type": "code",
   "execution_count": 12,
   "metadata": {},
   "outputs": [
    {
     "data": {
      "text/plain": [
       "{'whiskers': [<matplotlib.lines.Line2D at 0x7fb912a4f5e0>,\n",
       "  <matplotlib.lines.Line2D at 0x7fb912a4f940>],\n",
       " 'caps': [<matplotlib.lines.Line2D at 0x7fb912a4fca0>,\n",
       "  <matplotlib.lines.Line2D at 0x7fb912a58040>],\n",
       " 'boxes': [<matplotlib.lines.Line2D at 0x7fb912a4f280>],\n",
       " 'medians': [<matplotlib.lines.Line2D at 0x7fb912a583a0>],\n",
       " 'fliers': [<matplotlib.lines.Line2D at 0x7fb912a58700>],\n",
       " 'means': []}"
      ]
     },
     "execution_count": 12,
     "metadata": {},
     "output_type": "execute_result"
    },
    {
     "data": {
      "image/png": "[encoded data removed]",
      "text/plain": [
       "<Figure size 432x288 with 1 Axes>"
      ]
     },
     "metadata": {
      "needs_background": "light"
     },
     "output_type": "display_data"
    }
   ],
   "source": [
    "#singletons test \n",
    "sobol_X1_mis_mnar = sobol_mis_mnar(['X1'],sim)\n",
    "sobol_X2_mis_mnar = sobol_mis_mnar(['X2'],sim)\n",
    "plt.boxplot(sobol_X1_mis_mnar)"
   ]
  },
  {
   "cell_type": "code",
   "execution_count": 13,
   "metadata": {},
   "outputs": [
    {
     "data": {
      "text/plain": [
       "[Text(1, 0, 'X1'), Text(2, 0, 'X2')]"
      ]
     },
     "execution_count": 13,
     "metadata": {},
     "output_type": "execute_result"
    },
    {
     "data": {
      "image/png": "[encoded data removed]",
      "text/plain": [
       "<Figure size 432x288 with 1 Axes>"
      ]
     },
     "metadata": {
      "needs_background": "light"
     },
     "output_type": "display_data"
    }
   ],
   "source": [
    "singletons = dict(zip(['X1','X2'],[sobol_X1,sobol_X2]))\n",
    "\n",
    "fig, ax = plt.subplots()\n",
    "ax.boxplot(singletons.values())\n",
    "ax.set_xticklabels(singletons.keys())\n"
   ]
  },
  {
   "cell_type": "code",
   "execution_count": 14,
   "metadata": {},
   "outputs": [
    {
     "data": {
      "text/plain": [
       "[Text(1, 0, 'X1'), Text(2, 0, 'X2')]"
      ]
     },
     "execution_count": 14,
     "metadata": {},
     "output_type": "execute_result"
    },
    {
     "data": {
      "image/png": "[encoded data removed]",
      "text/plain": [
       "<Figure size 432x288 with 1 Axes>"
      ]
     },
     "metadata": {
      "needs_background": "light"
     },
     "output_type": "display_data"
    }
   ],
   "source": [
    "singletons_mis_mar = dict(zip(['X1','X2'],[sobol_X1_mis_mar,sobol_X2_mis_mar]))\n",
    "\n",
    "fig, ax = plt.subplots()\n",
    "ax.boxplot(singletons_mis_mar.values())\n",
    "\n",
    "ax.set_xticklabels(singletons_mis_mar.keys())"
   ]
  },
  {
   "cell_type": "code",
   "execution_count": 15,
   "metadata": {},
   "outputs": [
    {
     "data": {
      "text/plain": [
       "[Text(1, 0, 'X1'), Text(2, 0, 'X2')]"
      ]
     },
     "execution_count": 15,
     "metadata": {},
     "output_type": "execute_result"
    },
    {
     "data": {
      "image/png": "[encoded data removed]",
      "text/plain": [
       "<Figure size 432x288 with 1 Axes>"
      ]
     },
     "metadata": {
      "needs_background": "light"
     },
     "output_type": "display_data"
    }
   ],
   "source": [
    "singletons_mis_mnar = dict(zip(['X1','X2'],[sobol_X1_mis_mnar,sobol_X2_mis_mnar]))\n",
    "\n",
    "fig, ax = plt.subplots()\n",
    "ax.boxplot(singletons_mis_mnar.values())\n",
    "\n",
    "ax.set_xticklabels(singletons_mis_mnar.keys())"
   ]
  },
  {
   "cell_type": "code",
   "execution_count": 16,
   "metadata": {},
   "outputs": [],
   "source": [
    "def sobolplot_mar(n,sim,p):\n",
    "    sobol_X1 = sobol(['X1'],sim)\n",
    "    sobol_X2 = sobol(['X2'],sim)\n",
    "    singletons = dict(zip(['X1','X2'],[sobol_X1,sobol_X2]))\n",
    "    df_singletons = pd.DataFrame(singletons)\n",
    "    df_singletons['sample'] = 'complete'\n",
    "    #Missings\n",
    "    sobol_X1_mis = sobol_mis_mar(['X1'],sim)\n",
    "    sobol_X2_mis = sobol_mis_mar(['X2'],sim)\n",
    "    singletons_mis = dict(zip(['X1','X2'],[sobol_X1_mis,sobol_X2_mis]))\n",
    "    df_singletons_mis = pd.DataFrame(singletons_mis)\n",
    "    df_singletons_mis['sample'] = 'cc'\n",
    "    #Merge\n",
    "    cdf = pd.concat([df_singletons, df_singletons_mis],axis=0)  \n",
    "    dd = pd.melt(cdf, id_vars= ['sample'],value_vars=['X1','X2'],var_name='Variable')\n",
    "    dd = dd.rename(columns={'value':'Sobol index'})\n",
    "    dd.to_csv('Sobol singleton Toy MAR.csv')  \n",
    "    ax = sns.boxplot(x='Variable',y='Sobol index',data=dd,hue='sample',palette=\"Blues\")\n",
    "    #ax = sns.violinplot(x='Variable',y='Sobol index',data=dd,hue='sample',palette=\"Blues\")\n",
    "    ax.legend_.remove()\n",
    "    ax.set(ylim=(0.2, 0.7))\n",
    "    fig = ax.get_figure()\n",
    "    fig.savefig('images/toy/boxplot_toyexample_mar.pdf',transparent=True,bbox_inches='tight')\n",
    "    return fig"
   ]
  },
  {
   "cell_type": "code",
   "execution_count": 17,
   "metadata": {},
   "outputs": [
    {
     "data": {
      "image/png": "[encoded data removed]",
      "text/plain": [
       "<Figure size 432x288 with 1 Axes>"
      ]
     },
     "execution_count": 17,
     "metadata": {},
     "output_type": "execute_result"
    },
    {
     "data": {
      "image/png": "[encoded data removed]",
      "text/plain": [
       "<Figure size 432x288 with 1 Axes>"
      ]
     },
     "metadata": {
      "needs_background": "light"
     },
     "output_type": "display_data"
    }
   ],
   "source": [
    "n = 500\n",
    "sim = 500\n",
    "sobolplot_mar(n,sim,p=0.75)"
   ]
  },
  {
   "cell_type": "code",
   "execution_count": 18,
   "metadata": {},
   "outputs": [],
   "source": [
    "def sobolplot_mnar(n,sim,p):\n",
    "    sobol_X1 = sobol(['X1'],sim)\n",
    "    sobol_X2 = sobol(['X2'],sim)\n",
    "    singletons = dict(zip(['X1','X2'],[sobol_X1,sobol_X2]))\n",
    "    df_singletons = pd.DataFrame(singletons)\n",
    "    df_singletons['sample'] = 'complete'\n",
    "    #Missings\n",
    "    sobol_X1_mis = sobol_mis_mnar(['X1'],sim)\n",
    "    sobol_X2_mis = sobol_mis_mnar(['X2'],sim)\n",
    "    singletons_mis = dict(zip(['X1','X2'],[sobol_X1_mis,sobol_X2_mis]))\n",
    "    df_singletons_mis = pd.DataFrame(singletons_mis)\n",
    "    df_singletons_mis['sample'] = 'cc'\n",
    "    #Merge\n",
    "    cdf = pd.concat([df_singletons, df_singletons_mis],axis=0)  \n",
    "    dd = pd.melt(cdf, id_vars= ['sample'],value_vars=['X1','X2'],var_name='Variable')\n",
    "    dd = dd.rename(columns={'value':'Sobol index'})\n",
    "    dd.to_csv('Sobol singleton Toy MNAR.csv')  \n",
    "    ax = sns.boxplot(x='Variable',y='Sobol index',data=dd,hue='sample',palette=\"Blues\")\n",
    "    #ax = sns.violinplot(x='Variable',y='Sobol index',data=dd,hue='sample',palette=\"Blues\")\n",
    "    ax.legend_.remove()\n",
    "    ax.set(ylim=(0.2, 0.7))\n",
    "    fig = ax.get_figure()\n",
    "    fig.savefig('images/toy/boxplot_toyexample_mnar.pdf',transparent=True,bbox_inches='tight')\n",
    "    return fig"
   ]
  },
  {
   "cell_type": "code",
   "execution_count": 19,
   "metadata": {},
   "outputs": [
    {
     "data": {
      "image/png": "[encoded data removed]",
      "text/plain": [
       "<Figure size 432x288 with 1 Axes>"
      ]
     },
     "execution_count": 19,
     "metadata": {},
     "output_type": "execute_result"
    },
    {
     "data": {
      "image/png": "[encoded data removed]",
      "text/plain": [
       "<Figure size 432x288 with 1 Axes>"
      ]
     },
     "metadata": {
      "needs_background": "light"
     },
     "output_type": "display_data"
    }
   ],
   "source": [
    "n = 500\n",
    "sim = 500\n",
    "sobolplot_mnar(n,sim,p=0.75)"
   ]
  }
 ],
 "metadata": {
  "kernelspec": {
   "display_name": "Python 3",
   "language": "python",
   "name": "python3"
  },
  "language_info": {
   "codemirror_mode": {
    "name": "ipython",
    "version": 3
   },
   "file_extension": ".py",
   "mimetype": "text/x-python",
   "name": "python",
   "nbconvert_exporter": "python",
   "pygments_lexer": "ipython3",
   "version": "3.8.5"
  }
 },
 "nbformat": 4,
 "nbformat_minor": 4
}
