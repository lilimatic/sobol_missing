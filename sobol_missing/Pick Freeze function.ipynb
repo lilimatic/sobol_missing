{
 "cells": [
  {
   "cell_type": "code",
   "execution_count": 1,
   "metadata": {},
   "outputs": [],
   "source": [
    "import numpy as np\n",
    "import pandas as pd \n",
    "import random\n",
    "\n",
    "import seaborn as sns\n",
    "import matplotlib.pyplot as plt"
   ]
  },
  {
   "cell_type": "code",
   "execution_count": 2,
   "metadata": {},
   "outputs": [],
   "source": [
    "#random.seed(24)\n",
    "\n",
    "n=1000\n",
    "\n",
    "a = 1\n",
    "b = 1\n"
   ]
  },
  {
   "cell_type": "code",
   "execution_count": 3,
   "metadata": {},
   "outputs": [],
   "source": [
    "class dataset:\n",
    "    def __init__(self,n,df):\n",
    "        #Number of observations\n",
    "        self.n = n\n",
    "        #MCAR Bernoulli prob.\n",
    "        #data set \n",
    "        self.df = df \n",
    "        \n",
    "    #Ishigami function\n",
    "        #np.random.seed(24)   \n",
    "    \n",
    "    def ishigami(self):\n",
    "        return lambda a, b:  np.sin(self.df['X1']) + a * np.sin(self.df['X2'])**2 + b * (self.df['X3'])**4 * np.sin(self.df['X1']) + np.random.normal(0, 0.1, self.n)\n",
    "    \n",
    "    #H-Sample with target from Ishigami function\n",
    "    \n",
    "    def h_df(self,a,b):\n",
    "        self.df['Y'] = self.ishigami()(a,b)\n",
    "        return self.df['Y']\n",
    "    \n",
    "    def picked(self,request,a,b):\n",
    "        #request are the variables to be randomized, e.g. ['X2','X3']\n",
    "        newdf = self.df.copy()\n",
    "        values  = [list(pd.Series(np.random.uniform(0,1,n)))]*len(request)\n",
    "        dictionary = dict(zip(request, values))\n",
    "        for col, new_values in dictionary.items():\n",
    "            newdf = newdf.assign(**{col: new_values})\n",
    "        return newdf\n",
    "        \n",
    "        \n",
    "        "
   ]
  },
  {
   "cell_type": "code",
   "execution_count": 5,
   "metadata": {},
   "outputs": [],
   "source": [
    "def sobol(request,sim):\n",
    "    sobol_list = []\n",
    "    for x in range(sim):\n",
    "        df      = pd.DataFrame(np.random.uniform(0,1,size=(n, 3)),columns=['X1','X2','X3'])\n",
    "        newdf   = dataset(n,df).picked(request,a,b)\n",
    "        df['Y']    = dataset(n,df).h_df(a,b)\n",
    "        newdf['Y'] = dataset(n,newdf).h_df(a,b)\n",
    "        sobol_list.append((np.cov(df.Y,newdf.Y)/np.var(df.Y))[0][1])\n",
    "    return sobol_list"
   ]
  },
  {
   "cell_type": "code",
   "execution_count": 6,
   "metadata": {},
   "outputs": [
    {
     "data": {
      "text/plain": [
       "{'whiskers': [<matplotlib.lines.Line2D at 0x7fc1e589eb50>,\n",
       "  <matplotlib.lines.Line2D at 0x7fc1e589eeb0>],\n",
       " 'caps': [<matplotlib.lines.Line2D at 0x7fc1e58b7250>,\n",
       "  <matplotlib.lines.Line2D at 0x7fc1e58b75b0>],\n",
       " 'boxes': [<matplotlib.lines.Line2D at 0x7fc1e589e7f0>],\n",
       " 'medians': [<matplotlib.lines.Line2D at 0x7fc1e58b7910>],\n",
       " 'fliers': [<matplotlib.lines.Line2D at 0x7fc1e58b7c70>],\n",
       " 'means': []}"
      ]
     },
     "execution_count": 6,
     "metadata": {},
     "output_type": "execute_result"
    },
    {
     "data": {
      "image/png": "[encoded data removed]",
      "text/plain": [
       "<Figure size 432x288 with 1 Axes>"
      ]
     },
     "metadata": {
      "needs_background": "light"
     },
     "output_type": "display_data"
    }
   ],
   "source": [
    "#singletons test \n",
    "sobol_X1 = sobol(['X2','X3'],1000)\n",
    "sobol_X2 = sobol(['X1','X3'],1000)\n",
    "sobol_X3 = sobol(['X1','X3'],1000)\n",
    "plt.boxplot(sobol_X1)"
   ]
  },
  {
   "cell_type": "code",
   "execution_count": 7,
   "metadata": {},
   "outputs": [],
   "source": [
    "singletons = dict(zip(['X1','X2','X3'],[sobol_X1,sobol_X2,sobol_X3]))"
   ]
  },
  {
   "cell_type": "code",
   "execution_count": 8,
   "metadata": {},
   "outputs": [
    {
     "data": {
      "text/plain": [
       "[Text(1, 0, 'X1'), Text(2, 0, 'X2'), Text(3, 0, 'X3')]"
      ]
     },
     "execution_count": 8,
     "metadata": {},
     "output_type": "execute_result"
    },
    {
     "data": {
      "image/png": "[encoded data removed]",
      "text/plain": [
       "<Figure size 432x288 with 1 Axes>"
      ]
     },
     "metadata": {
      "needs_background": "light"
     },
     "output_type": "display_data"
    }
   ],
   "source": [
    "fig, ax = plt.subplots()\n",
    "ax.boxplot(singletons.values())\n",
    "ax.set_xticklabels(singletons.keys())"
   ]
  },
  {
   "cell_type": "code",
   "execution_count": 9,
   "metadata": {},
   "outputs": [
    {
     "data": {
      "text/plain": [
       "<AxesSubplot:>"
      ]
     },
     "execution_count": 9,
     "metadata": {},
     "output_type": "execute_result"
    },
    {
     "data": {
      "image/png": "[encoded data removed]",
      "text/plain": [
       "<Figure size 432x288 with 1 Axes>"
      ]
     },
     "metadata": {
      "needs_background": "light"
     },
     "output_type": "display_data"
    }
   ],
   "source": [
    "#Violin plot \n",
    "\n",
    "df_singletons = pd.DataFrame(singletons)\n",
    "sns.violinplot(data=df_singletons)"
   ]
  },
  {
   "cell_type": "code",
   "execution_count": null,
   "metadata": {},
   "outputs": [],
   "source": [
    "\n",
    "\n",
    "\n"
   ]
  },
  {
   "cell_type": "code",
   "execution_count": null,
   "metadata": {},
   "outputs": [],
   "source": []
  }
 ],
 "metadata": {
  "kernelspec": {
   "display_name": "Python 3",
   "language": "python",
   "name": "python3"
  },
  "language_info": {
   "codemirror_mode": {
    "name": "ipython",
    "version": 3
   },
   "file_extension": ".py",
   "mimetype": "text/x-python",
   "name": "python",
   "nbconvert_exporter": "python",
   "pygments_lexer": "ipython3",
   "version": "3.8.5"
  }
 },
 "nbformat": 4,
 "nbformat_minor": 4
}
