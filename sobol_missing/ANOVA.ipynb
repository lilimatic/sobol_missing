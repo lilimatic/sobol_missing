{
 "cells": [
  {
   "cell_type": "code",
   "execution_count": 1,
   "metadata": {},
   "outputs": [],
   "source": [
    "import numpy as np\n",
    "import pandas as pd\n",
    "import random\n",
    "\n",
    "import matplotlib.pyplot as plt"
   ]
  },
  {
   "cell_type": "markdown",
   "metadata": {},
   "source": [
    "#### Create sample of size $d=3$"
   ]
  },
  {
   "cell_type": "code",
   "execution_count": 2,
   "metadata": {},
   "outputs": [],
   "source": [
    "## Configurations\n",
    "random.seed(24)\n",
    "n=1000\n",
    "\n",
    "a = 1\n",
    "b =1"
   ]
  },
  {
   "cell_type": "code",
   "execution_count": 3,
   "metadata": {},
   "outputs": [],
   "source": [
    "df = pd.DataFrame(np.random.uniform(0,1,size=(n, 3)))"
   ]
  },
  {
   "cell_type": "code",
   "execution_count": 4,
   "metadata": {},
   "outputs": [],
   "source": [
    "class dataset:\n",
    "    def __init__(self,n,df):\n",
    "        #Number of observations\n",
    "        self.n = n\n",
    "        #MCAR Bernoulli prob.\n",
    "        #data set \n",
    "        self.df = df \n",
    "        \n",
    "    #Ishigami function\n",
    "    \n",
    "    \n",
    "        np.random.seed(24)   \n",
    "    \n",
    "    def ishigami(self):\n",
    "        return lambda a, b: np.sin(self.df[0]) + a * np.sin(self.df[1])**2 + b * (self.df[2])**4 * np.sin(self.df[0])+ np.random.normal(0, 0.1, self.n)\n",
    "    \n",
    "    #H-Sample with target from Ishigami function\n",
    "    \n",
    "    def h_df(self,a,b):\n",
    "        self.df['Y'] = self.ishigami()(a,b)\n",
    "        return self.df['Y']\n",
    "    \n",
    "    #Ishigami plots \n"
   ]
  },
  {
   "cell_type": "code",
   "execution_count": 5,
   "metadata": {},
   "outputs": [],
   "source": [
    "df['Y'] = dataset(n,df).h_df(a,b)"
   ]
  },
  {
   "cell_type": "code",
   "execution_count": 6,
   "metadata": {},
   "outputs": [],
   "source": [
    "def mcar(n,p):\n",
    "    #Response missing\n",
    "    random.seed(24)\n",
    "    #missing values in the response\n",
    "    return pd.DataFrame(np.random.binomial(size=(n,1), n=1, p= p))"
   ]
  },
  {
   "cell_type": "code",
   "execution_count": 7,
   "metadata": {},
   "outputs": [],
   "source": [
    "#Response missing\n",
    "ones= pd.DataFrame(np.ones((n, 3), dtype=int))\n",
    "ones[3] = mcar(n,0.6)\n",
    "#ones"
   ]
  },
  {
   "cell_type": "code",
   "execution_count": 8,
   "metadata": {},
   "outputs": [],
   "source": [
    "index = df[['Y']][ones[3] ==1].index.values\n",
    "\n",
    "cc = df.loc[index]\n",
    "\n",
    "#len(cc)"
   ]
  },
  {
   "cell_type": "code",
   "execution_count": 9,
   "metadata": {},
   "outputs": [],
   "source": [
    "#Ishigami plots \n",
    "def ishigami_scatter(x3,a,b):\n",
    "    np.random.seed(24)\n",
    "    z = np.sin(df[0]) + a * np.sin(df[1])**2 + b * (x3)**4 * np.sin(df[0]) + np.random.normal(0, 1, n)\n",
    "    x = df[0]\n",
    "    y = df[1]\n",
    "    \n",
    "    z1 = np.sin(cc[0]) + a * np.sin(cc[1])**2 + b * (x3)**4 * np.sin(cc[0]) + np.random.normal(0, 1, len(cc))\n",
    "    x1 = cc[0]\n",
    "    y1 = cc[1]\n",
    "    \n",
    "    \n",
    "    fig = plt.figure(figsize = (10,10))\n",
    "    ax = plt.axes(projection='3d')\n",
    "    ax.grid()\n",
    "    \n",
    "    ax.scatter(x, y, z, c = 'r', s = 50)\n",
    "    ax.scatter(x1, y1, z1, c = 'black', s = 50)\n",
    "    #ax.set_title('Ishigami function scatter plot for $X_{3}=$'+str(x3)+', a='+str(a)+' and b='+str(b))\n",
    "    \n",
    "    ax.set_xlabel('$X_{1}$', labelpad=20,fontsize=15)\n",
    "    ax.set_ylabel('$X_{2}$', labelpad=20,fontsize=15)\n",
    "    ax.set_zlabel('Y', labelpad=20,fontsize=15)\n",
    "    \n",
    "    ax.tick_params(axis='x', labelsize=15)\n",
    "    ax.tick_params(axis='y', labelsize=15)\n",
    "    ax.tick_params(axis='z', labelsize=15)\n",
    "    \n",
    "    ax.grid(False)\n",
    "    plt.savefig('Ishigami for X3='+str(x3)+', a='+str(a)+' and b='+str(b)+'.pdf', transparent=True,bbox_inches='tight')\n",
    "    return \n",
    "\n",
    "#Ishigami illustrations\n",
    "#ishigami_scatter(x3=0.9,a=0.2,b=10)\n",
    "#ishigami_scatter(x3=0.6,a=10,b=0.2)\n",
    "#ishigami_scatter(x3=0.5,a=1,b=1)"
   ]
  },
  {
   "cell_type": "code",
   "execution_count": null,
   "metadata": {},
   "outputs": [],
   "source": []
  },
  {
   "cell_type": "code",
   "execution_count": null,
   "metadata": {},
   "outputs": [],
   "source": []
  }
 ],
 "metadata": {
  "kernelspec": {
   "display_name": "Python 3",
   "language": "python",
   "name": "python3"
  },
  "language_info": {
   "codemirror_mode": {
    "name": "ipython",
    "version": 3
   },
   "file_extension": ".py",
   "mimetype": "text/x-python",
   "name": "python",
   "nbconvert_exporter": "python",
   "pygments_lexer": "ipython3",
   "version": "3.8.5"
  }
 },
 "nbformat": 4,
 "nbformat_minor": 4
}
