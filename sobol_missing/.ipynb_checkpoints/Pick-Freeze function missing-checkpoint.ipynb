{
 "cells": [
  {
   "cell_type": "code",
   "execution_count": 1,
   "metadata": {},
   "outputs": [],
   "source": [
    "import numpy as np\n",
    "import pandas as pd \n",
    "import random\n",
    "\n",
    "import seaborn as sns\n",
    "import matplotlib.pyplot as plt\n",
    "\n",
    "from scipy.stats import ks_2samp"
   ]
  },
  {
   "cell_type": "code",
   "execution_count": 2,
   "metadata": {},
   "outputs": [],
   "source": [
    "#random.seed(24)\n",
    "\n",
    "n=100\n",
    "\n",
    "a = 1\n",
    "b = 1\n",
    "sim = 100\n",
    "p=0.9"
   ]
  },
  {
   "cell_type": "code",
   "execution_count": 3,
   "metadata": {},
   "outputs": [],
   "source": [
    "class dataset:\n",
    "    def __init__(self,n,p,df):\n",
    "        #Number of observations\n",
    "        self.n = n\n",
    "        #MCAR Bernoulli prob.\n",
    "        self.p = p\n",
    "        #data set \n",
    "        self.df = df \n",
    "        \n",
    "    #Ishigami function\n",
    "        #np.random.seed(24)   \n",
    "    \n",
    "    def ishigami(self):\n",
    "        return lambda a, b:  np.sin(self.df['X1']) + a * np.sin(self.df['X2'])**2 + b * (self.df['X3'])**4 * np.sin(self.df['X1']) + np.random.normal(0, 0.01, self.n)\n",
    "    \n",
    "    def toyreg(self):\n",
    "        return lambda b1,b2: b1*self.df['X1'] + b2*self.df['X2'] + np.random.normal(0, 0.01, self.n)\n",
    "    \n",
    "    #H-Sample with target from Ishigami function\n",
    "    \n",
    "    def h_df(self,a,b):\n",
    "        self.df['Y'] = self.ishigami()(a,b)\n",
    "        return self.df['Y']\n",
    "    \n",
    "    def picked(self,request,a,b):\n",
    "        #request are the variables to be randomized, e.g. ['X2','X3']\n",
    "        newdf = self.df.copy()\n",
    "        values  = [list(pd.Series(np.random.uniform(0,1,self.n)))]*len(request)\n",
    "        dictionary = dict(zip(request, values))\n",
    "        for col, new_values in dictionary.items():\n",
    "            newdf = newdf.assign(**{col: new_values})\n",
    "        return newdf\n",
    "    \n",
    "    def mcar(self,a,b):\n",
    "        #self.df['Y'] = self.ishigami()(a,b)\n",
    "        mask = np.random.binomial(size=(self.n,3), n=1, p= self.p) == 1\n",
    "        mask = np.reshape(mask,(self.n,3))\n",
    "        #print(mask)\n",
    "        df1 = self.df.where(mask,np.nan)\n",
    "        #print(df1)\n",
    "        return df1.dropna()\n",
    "    \n",
    "    def mar(self,cond1,cond2):\n",
    "        cond_x = np.where((self.df['X1'] <0.5) , 1, 0) # & or (self.df['X3'] <0.1)\n",
    "        omega = (np.random.binomial(size=(self.n,1), n=1, p= p) == 1)  #omega.shape \n",
    "        omega = np.reshape(omega,(self.n,))\n",
    "        condition = omega & (cond_x  ==1) \n",
    "        self.df['X3'] = np.where(condition,np.array(self.df['X3']),np.nan)\n",
    "        return self.df.dropna()\n",
    "    \n",
    "    \n",
    "    \n",
    "    "
   ]
  },
  {
   "cell_type": "code",
   "execution_count": 4,
   "metadata": {},
   "outputs": [],
   "source": [
    "df      = pd.DataFrame(np.random.uniform(0,1,size=(n, 3)),columns=['X1','X2','X3'])\n",
    "#df['Y'] = dataset(n,p,df).ishigami()(a,b)\n",
    "#df"
   ]
  },
  {
   "cell_type": "code",
   "execution_count": 5,
   "metadata": {},
   "outputs": [],
   "source": [
    "cc = dataset(n,p,df).mcar(a,b)\n",
    "#cc"
   ]
  },
  {
   "cell_type": "code",
   "execution_count": 6,
   "metadata": {},
   "outputs": [],
   "source": [
    "def sobol(request,sim):\n",
    "    sobol_list = []\n",
    "    for x in range(sim):\n",
    "        df      = pd.DataFrame(np.random.uniform(0,1,size=(n, 3)),columns=['X1','X2','X3'])\n",
    "        newdf   = dataset(n,p,df).picked(request,a,b)\n",
    "        df['Y']    = dataset(n,p,df).h_df(a,b)\n",
    "        newdf['Y'] = dataset(n,p,newdf).h_df(a,b)\n",
    "        sobol_list.append((np.cov(df.Y,newdf.Y)/np.var(df.Y))[0][1])\n",
    "    return sobol_list"
   ]
  },
  {
   "cell_type": "code",
   "execution_count": 7,
   "metadata": {},
   "outputs": [
    {
     "data": {
      "text/plain": [
       "Text(0.5, 1.0, '')"
      ]
     },
     "execution_count": 7,
     "metadata": {},
     "output_type": "execute_result"
    },
    {
     "data": {
      "image/png": "[encoded data removed]",
      "text/plain": [
       "<Figure size 432x288 with 1 Axes>"
      ]
     },
     "metadata": {
      "needs_background": "light"
     },
     "output_type": "display_data"
    }
   ],
   "source": [
    "#singletons H-Sample\n",
    "sobol_X1 = sobol(['X2','X3'],sim)\n",
    "sobol_X2 = sobol(['X1','X3'],sim)\n",
    "sobol_X3 = sobol(['X1','X3'],sim)\n",
    "plt.boxplot(sobol_X1)\n",
    "plt.title('')"
   ]
  },
  {
   "cell_type": "code",
   "execution_count": 8,
   "metadata": {},
   "outputs": [
    {
     "data": {
      "text/plain": [
       "[Text(1, 0, 'X1'), Text(2, 0, 'X2'), Text(3, 0, 'X3')]"
      ]
     },
     "execution_count": 8,
     "metadata": {},
     "output_type": "execute_result"
    },
    {
     "data": {
      "image/png": "[encoded data removed]",
      "text/plain": [
       "<Figure size 432x288 with 1 Axes>"
      ]
     },
     "metadata": {
      "needs_background": "light"
     },
     "output_type": "display_data"
    }
   ],
   "source": [
    "singletons = dict(zip(['X1','X2','X3'],[sobol_X1,sobol_X2,sobol_X3]))\n",
    "\n",
    "fig, ax = plt.subplots()\n",
    "ax.boxplot(singletons.values())\n",
    "ax.set_xticklabels(singletons.keys())\n"
   ]
  },
  {
   "cell_type": "code",
   "execution_count": 9,
   "metadata": {},
   "outputs": [
    {
     "data": {
      "text/plain": [
       "<AxesSubplot:>"
      ]
     },
     "execution_count": 9,
     "metadata": {},
     "output_type": "execute_result"
    },
    {
     "data": {
      "image/png": "[encoded data removed]",
      "text/plain": [
       "<Figure size 432x288 with 1 Axes>"
      ]
     },
     "metadata": {
      "needs_background": "light"
     },
     "output_type": "display_data"
    }
   ],
   "source": [
    "df_singletons = pd.DataFrame(singletons)\n",
    "#sns.violinplot(data=df_singletons)"
   ]
  },
  {
   "cell_type": "code",
   "execution_count": 10,
   "metadata": {},
   "outputs": [],
   "source": [
    "def sobol_mis(request,sim):\n",
    "    sobol_list = []\n",
    "    for x in range(sim):\n",
    "        df      = pd.DataFrame(np.random.uniform(0,1,size=(n, 3)),columns=['X1','X2','X3'])\n",
    "        cc = dataset(n,p,df).mcar(a,b)\n",
    "        cc['Y'] = dataset(len(cc),p,cc).h_df(a,b)\n",
    "        newcc   = dataset(len(cc),p,cc).picked(request,a,b)\n",
    "        newcc['Y'] = dataset(len(cc),p,newcc).h_df(a,b)\n",
    "        sobol_list.append((np.cov(cc.Y,newcc.Y)/np.var(cc.Y))[0][1])\n",
    "    return sobol_list"
   ]
  },
  {
   "cell_type": "code",
   "execution_count": 11,
   "metadata": {},
   "outputs": [
    {
     "data": {
      "text/plain": [
       "{'whiskers': [<matplotlib.lines.Line2D at 0x7f80feb04400>,\n",
       "  <matplotlib.lines.Line2D at 0x7f80feb04760>],\n",
       " 'caps': [<matplotlib.lines.Line2D at 0x7f80feb04ac0>,\n",
       "  <matplotlib.lines.Line2D at 0x7f80feb04e20>],\n",
       " 'boxes': [<matplotlib.lines.Line2D at 0x7f80feb040a0>],\n",
       " 'medians': [<matplotlib.lines.Line2D at 0x7f80feb281c0>],\n",
       " 'fliers': [<matplotlib.lines.Line2D at 0x7f80feb28520>],\n",
       " 'means': []}"
      ]
     },
     "execution_count": 11,
     "metadata": {},
     "output_type": "execute_result"
    },
    {
     "data": {
      "image/png": "[encoded data removed]",
      "text/plain": [
       "<Figure size 432x288 with 1 Axes>"
      ]
     },
     "metadata": {
      "needs_background": "light"
     },
     "output_type": "display_data"
    }
   ],
   "source": [
    "#singletons test \n",
    "sobol_X1_mis = sobol_mis(['X2','X3'],sim)\n",
    "sobol_X2_mis = sobol_mis(['X1','X3'],sim)\n",
    "sobol_X3_mis = sobol_mis(['X1','X3'],sim)\n",
    "plt.boxplot(sobol_X1_mis)"
   ]
  },
  {
   "cell_type": "code",
   "execution_count": 12,
   "metadata": {},
   "outputs": [],
   "source": [
    "singletons_mis = dict(zip(['X1','X2','X3'],[sobol_X1_mis,sobol_X2_mis,sobol_X3_mis]))"
   ]
  },
  {
   "cell_type": "code",
   "execution_count": 13,
   "metadata": {},
   "outputs": [
    {
     "data": {
      "text/plain": [
       "[Text(1, 0, 'X1'), Text(2, 0, 'X2'), Text(3, 0, 'X3')]"
      ]
     },
     "execution_count": 13,
     "metadata": {},
     "output_type": "execute_result"
    },
    {
     "data": {
      "image/png": "[encoded data removed]",
      "text/plain": [
       "<Figure size 432x288 with 1 Axes>"
      ]
     },
     "metadata": {
      "needs_background": "light"
     },
     "output_type": "display_data"
    }
   ],
   "source": [
    "fig, ax = plt.subplots()\n",
    "ax.boxplot(singletons_mis.values())\n",
    "\n",
    "ax.set_xticklabels(singletons_mis.keys())"
   ]
  },
  {
   "cell_type": "code",
   "execution_count": 14,
   "metadata": {},
   "outputs": [
    {
     "data": {
      "text/plain": [
       "<AxesSubplot:>"
      ]
     },
     "execution_count": 14,
     "metadata": {},
     "output_type": "execute_result"
    },
    {
     "data": {
      "image/png": "[encoded data removed]",
      "text/plain": [
       "<Figure size 432x288 with 1 Axes>"
      ]
     },
     "metadata": {
      "needs_background": "light"
     },
     "output_type": "display_data"
    }
   ],
   "source": [
    "df_singletons_mis = pd.DataFrame(singletons_mis)\n",
    "\n",
    "sns.violinplot(data=df_singletons_mis)"
   ]
  },
  {
   "cell_type": "code",
   "execution_count": 15,
   "metadata": {},
   "outputs": [],
   "source": [
    "df_singletons_mis['sample'] = 'cc'\n",
    "df_singletons['sample'] = 'complete'\n",
    "\n",
    "\n",
    "cdf = pd.concat([df_singletons, df_singletons_mis],axis=0)  "
   ]
  },
  {
   "cell_type": "code",
   "execution_count": 16,
   "metadata": {},
   "outputs": [],
   "source": [
    "dd = pd.melt(cdf, id_vars= ['sample'],value_vars=['X1','X2','X3'],var_name='Variable')\n",
    "\n",
    "#dd\n",
    "\n",
    "dd = dd.rename(columns={'value':'Sobol index'})"
   ]
  },
  {
   "cell_type": "code",
   "execution_count": 17,
   "metadata": {},
   "outputs": [
    {
     "data": {
      "text/html": [
       "<div>\n",
       "<style scoped>\n",
       "    .dataframe tbody tr th:only-of-type {\n",
       "        vertical-align: middle;\n",
       "    }\n",
       "\n",
       "    .dataframe tbody tr th {\n",
       "        vertical-align: top;\n",
       "    }\n",
       "\n",
       "    .dataframe thead th {\n",
       "        text-align: right;\n",
       "    }\n",
       "</style>\n",
       "<table border=\"1\" class=\"dataframe\">\n",
       "  <thead>\n",
       "    <tr style=\"text-align: right;\">\n",
       "      <th></th>\n",
       "      <th>Sobol index</th>\n",
       "    </tr>\n",
       "  </thead>\n",
       "  <tbody>\n",
       "    <tr>\n",
       "      <th>count</th>\n",
       "      <td>600.000000</td>\n",
       "    </tr>\n",
       "    <tr>\n",
       "      <th>mean</th>\n",
       "      <td>0.407476</td>\n",
       "    </tr>\n",
       "    <tr>\n",
       "      <th>std</th>\n",
       "      <td>0.176485</td>\n",
       "    </tr>\n",
       "    <tr>\n",
       "      <th>min</th>\n",
       "      <td>-0.041824</td>\n",
       "    </tr>\n",
       "    <tr>\n",
       "      <th>25%</th>\n",
       "      <td>0.279814</td>\n",
       "    </tr>\n",
       "    <tr>\n",
       "      <th>50%</th>\n",
       "      <td>0.400732</td>\n",
       "    </tr>\n",
       "    <tr>\n",
       "      <th>75%</th>\n",
       "      <td>0.539753</td>\n",
       "    </tr>\n",
       "    <tr>\n",
       "      <th>max</th>\n",
       "      <td>1.050154</td>\n",
       "    </tr>\n",
       "  </tbody>\n",
       "</table>\n",
       "</div>"
      ],
      "text/plain": [
       "       Sobol index\n",
       "count   600.000000\n",
       "mean      0.407476\n",
       "std       0.176485\n",
       "min      -0.041824\n",
       "25%       0.279814\n",
       "50%       0.400732\n",
       "75%       0.539753\n",
       "max       1.050154"
      ]
     },
     "execution_count": 17,
     "metadata": {},
     "output_type": "execute_result"
    }
   ],
   "source": [
    "dd.describe()"
   ]
  },
  {
   "cell_type": "code",
   "execution_count": 18,
   "metadata": {},
   "outputs": [
    {
     "data": {
      "text/plain": [
       "[(0.1, 0.8)]"
      ]
     },
     "execution_count": 18,
     "metadata": {},
     "output_type": "execute_result"
    },
    {
     "data": {
      "image/png": "[encoded data removed]",
      "text/plain": [
       "<Figure size 432x288 with 1 Axes>"
      ]
     },
     "metadata": {
      "needs_background": "light"
     },
     "output_type": "display_data"
    }
   ],
   "source": [
    "ax =sns.boxplot(x='Variable',y='Sobol index',data=dd,hue='sample',palette=\"Blues\")\n",
    "ax.legend_.remove()\n",
    "ax.set(ylim=(0.1, 0.8))\n"
   ]
  },
  {
   "cell_type": "code",
   "execution_count": 19,
   "metadata": {},
   "outputs": [
    {
     "data": {
      "image/png": "[encoded data removed]",
      "text/plain": [
       "<Figure size 432x288 with 1 Axes>"
      ]
     },
     "metadata": {
      "needs_background": "light"
     },
     "output_type": "display_data"
    }
   ],
   "source": [
    "ax = sns.violinplot(x='Variable',y='Sobol index',data=dd,hue='sample',palette=\"Blues\")\n",
    "\n",
    "ax.legend_.remove()\n",
    "\n",
    "fig = ax.get_figure()\n",
    "ax.set(ylim=(0, 1))\n",
    "fig.savefig('violin_cc_true.pdf',transparent=True,bbox_inches='tight')"
   ]
  },
  {
   "cell_type": "code",
   "execution_count": 20,
   "metadata": {},
   "outputs": [],
   "source": [
    "def sobolplot(n,sim,p):\n",
    "    sobol_X1 = sobol(['X2','X3'],sim)\n",
    "    sobol_X2 = sobol(['X1','X3'],sim)\n",
    "    sobol_X3 = sobol(['X1','X3'],sim)\n",
    "    singletons = dict(zip(['X1','X2','X3'],[sobol_X1,sobol_X2,sobol_X3]))\n",
    "    df_singletons = pd.DataFrame(singletons)\n",
    "    df_singletons['sample'] = 'complete'\n",
    "    #Missings\n",
    "    sobol_X1_mis = sobol_mis(['X2','X3'],sim)\n",
    "    sobol_X2_mis = sobol_mis(['X1','X3'],sim)\n",
    "    sobol_X3_mis = sobol_mis(['X1','X3'],sim)\n",
    "    singletons_mis = dict(zip(['X1','X2','X3'],[sobol_X1_mis,sobol_X2_mis,sobol_X3_mis]))\n",
    "    df_singletons_mis = pd.DataFrame(singletons_mis)\n",
    "    df_singletons_mis['sample'] = 'cc'\n",
    "    #Merge\n",
    "    cdf = pd.concat([df_singletons, df_singletons_mis],axis=0)  \n",
    "    dd = pd.melt(cdf, id_vars= ['sample'],value_vars=['X1','X2','X3'],var_name='Variable')\n",
    "    dd = dd.rename(columns={'value':'Sobol index'})\n",
    "    dd.to_csv('Sobol singleton for p='+str(p)+'.csv')  \n",
    "    ax = sns.boxplot(x='Variable',y='Sobol index',data=dd,hue='sample',palette=\"Blues\") #,showfliers=False\n",
    "    #ax = sns.violinplot(x='Variable',y='Sobol index',data=dd,hue='sample',palette=\"Blues\")\n",
    "    ax.legend_.remove()\n",
    "    ax.set(ylim=(0.15, 0.7))\n",
    "    fig = ax.get_figure()\n",
    "    fig.savefig('images/violin_cc_true for p='+str(p)+'.pdf',transparent=True,bbox_inches='tight')\n",
    "    return fig\n",
    "    "
   ]
  },
  {
   "cell_type": "code",
   "execution_count": 21,
   "metadata": {},
   "outputs": [
    {
     "data": {
      "image/png": "[encoded data removed]",
      "text/plain": [
       "<Figure size 432x288 with 1 Axes>"
      ]
     },
     "execution_count": 21,
     "metadata": {},
     "output_type": "execute_result"
    },
    {
     "data": {
      "image/png": "[encoded data removed]",
      "text/plain": [
       "<Figure size 432x288 with 1 Axes>"
      ]
     },
     "metadata": {
      "needs_background": "light"
     },
     "output_type": "display_data"
    }
   ],
   "source": [
    "n = 1000\n",
    "sim = 1000\n",
    "sobolplot(n,sim,0.9)"
   ]
  },
  {
   "cell_type": "code",
   "execution_count": 22,
   "metadata": {},
   "outputs": [
    {
     "data": {
      "image/png": "[encoded data removed]",
      "text/plain": [
       "<Figure size 432x288 with 1 Axes>"
      ]
     },
     "execution_count": 22,
     "metadata": {},
     "output_type": "execute_result"
    },
    {
     "data": {
      "image/png": "[encoded data removed]",
      "text/plain": [
       "<Figure size 432x288 with 1 Axes>"
      ]
     },
     "metadata": {
      "needs_background": "light"
     },
     "output_type": "display_data"
    }
   ],
   "source": [
    "sobolplot(n,sim,0.75)"
   ]
  },
  {
   "cell_type": "code",
   "execution_count": 23,
   "metadata": {},
   "outputs": [
    {
     "data": {
      "image/png": "[encoded data removed]",
      "text/plain": [
       "<Figure size 432x288 with 1 Axes>"
      ]
     },
     "execution_count": 23,
     "metadata": {},
     "output_type": "execute_result"
    },
    {
     "data": {
      "image/png": "[encoded data removed]",
      "text/plain": [
       "<Figure size 432x288 with 1 Axes>"
      ]
     },
     "metadata": {
      "needs_background": "light"
     },
     "output_type": "display_data"
    }
   ],
   "source": [
    "sobolplot(n,sim,0.4)"
   ]
  },
  {
   "cell_type": "code",
   "execution_count": 24,
   "metadata": {},
   "outputs": [
    {
     "name": "stdout",
     "output_type": "stream",
     "text": [
      "Test for p=0.4\n",
      "KstestResult(statistic=0.059, pvalue=0.06153429181321559)\n",
      "KstestResult(statistic=0.048, pvalue=0.19957365535779528)\n",
      "KstestResult(statistic=0.06, pvalue=0.05462666510701526)\n",
      "Test for p=0.75\n",
      "KstestResult(statistic=0.06, pvalue=0.05462666510701526)\n",
      "KstestResult(statistic=0.054, pvalue=0.1082872208757189)\n",
      "KstestResult(statistic=0.058, pvalue=0.06917625399020766)\n",
      "Test for p=0.9\n",
      "KstestResult(statistic=0.067, pvalue=0.022438659451142425)\n",
      "KstestResult(statistic=0.042, pvalue=0.34112475112661245)\n",
      "KstestResult(statistic=0.06, pvalue=0.05462666510701526)\n"
     ]
    }
   ],
   "source": [
    "for p in [0.4,0.75,0.9]: #\n",
    "    print('Test for p='+str(p))\n",
    "    ddp = pd.read_csv('Sobol singleton for p='+str(p)+'.csv')\n",
    "    for x in ['X1','X2','X3']:\n",
    "        sobol1 = ddp.loc[(ddp['Variable'] ==x) & (ddp['sample']=='complete')]['Sobol index']\n",
    "        sobolcc= ddp.loc[(ddp['Variable'] ==x) & (ddp['sample']=='cc')]['Sobol index']\n",
    "        print(ks_2samp(sobol1,sobolcc))"
   ]
  },
  {
   "cell_type": "code",
   "execution_count": 25,
   "metadata": {},
   "outputs": [
    {
     "data": {
      "text/html": [
       "<div>\n",
       "<style scoped>\n",
       "    .dataframe tbody tr th:only-of-type {\n",
       "        vertical-align: middle;\n",
       "    }\n",
       "\n",
       "    .dataframe tbody tr th {\n",
       "        vertical-align: top;\n",
       "    }\n",
       "\n",
       "    .dataframe thead th {\n",
       "        text-align: right;\n",
       "    }\n",
       "</style>\n",
       "<table border=\"1\" class=\"dataframe\">\n",
       "  <thead>\n",
       "    <tr style=\"text-align: right;\">\n",
       "      <th></th>\n",
       "      <th>Unnamed: 0</th>\n",
       "      <th>Sobol index</th>\n",
       "    </tr>\n",
       "  </thead>\n",
       "  <tbody>\n",
       "    <tr>\n",
       "      <th>count</th>\n",
       "      <td>1000.000000</td>\n",
       "      <td>1000.000000</td>\n",
       "    </tr>\n",
       "    <tr>\n",
       "      <th>mean</th>\n",
       "      <td>499.500000</td>\n",
       "      <td>0.561211</td>\n",
       "    </tr>\n",
       "    <tr>\n",
       "      <th>std</th>\n",
       "      <td>288.819436</td>\n",
       "      <td>0.030027</td>\n",
       "    </tr>\n",
       "    <tr>\n",
       "      <th>min</th>\n",
       "      <td>0.000000</td>\n",
       "      <td>0.472820</td>\n",
       "    </tr>\n",
       "    <tr>\n",
       "      <th>25%</th>\n",
       "      <td>249.750000</td>\n",
       "      <td>0.540158</td>\n",
       "    </tr>\n",
       "    <tr>\n",
       "      <th>50%</th>\n",
       "      <td>499.500000</td>\n",
       "      <td>0.561125</td>\n",
       "    </tr>\n",
       "    <tr>\n",
       "      <th>75%</th>\n",
       "      <td>749.250000</td>\n",
       "      <td>0.581790</td>\n",
       "    </tr>\n",
       "    <tr>\n",
       "      <th>max</th>\n",
       "      <td>999.000000</td>\n",
       "      <td>0.679156</td>\n",
       "    </tr>\n",
       "  </tbody>\n",
       "</table>\n",
       "</div>"
      ],
      "text/plain": [
       "        Unnamed: 0  Sobol index\n",
       "count  1000.000000  1000.000000\n",
       "mean    499.500000     0.561211\n",
       "std     288.819436     0.030027\n",
       "min       0.000000     0.472820\n",
       "25%     249.750000     0.540158\n",
       "50%     499.500000     0.561125\n",
       "75%     749.250000     0.581790\n",
       "max     999.000000     0.679156"
      ]
     },
     "execution_count": 25,
     "metadata": {},
     "output_type": "execute_result"
    }
   ],
   "source": [
    "ddp09 = pd.read_csv('Sobol singleton for p=0.9.csv')\n",
    "\n",
    "sobol_complete = ddp09.loc[(ddp09['Variable']=='X1') & (ddp09['sample']=='complete')].sort_values('Sobol index')\n",
    "\n",
    "ddp09.loc[(ddp09['Variable']=='X1') & (ddp09['sample']=='complete')].describe()"
   ]
  },
  {
   "cell_type": "code",
   "execution_count": 26,
   "metadata": {},
   "outputs": [
    {
     "data": {
      "text/html": [
       "<div>\n",
       "<style scoped>\n",
       "    .dataframe tbody tr th:only-of-type {\n",
       "        vertical-align: middle;\n",
       "    }\n",
       "\n",
       "    .dataframe tbody tr th {\n",
       "        vertical-align: top;\n",
       "    }\n",
       "\n",
       "    .dataframe thead th {\n",
       "        text-align: right;\n",
       "    }\n",
       "</style>\n",
       "<table border=\"1\" class=\"dataframe\">\n",
       "  <thead>\n",
       "    <tr style=\"text-align: right;\">\n",
       "      <th></th>\n",
       "      <th>Unnamed: 0</th>\n",
       "      <th>Sobol index</th>\n",
       "    </tr>\n",
       "  </thead>\n",
       "  <tbody>\n",
       "    <tr>\n",
       "      <th>count</th>\n",
       "      <td>1000.000000</td>\n",
       "      <td>1000.000000</td>\n",
       "    </tr>\n",
       "    <tr>\n",
       "      <th>mean</th>\n",
       "      <td>1499.500000</td>\n",
       "      <td>0.563332</td>\n",
       "    </tr>\n",
       "    <tr>\n",
       "      <th>std</th>\n",
       "      <td>288.819436</td>\n",
       "      <td>0.036202</td>\n",
       "    </tr>\n",
       "    <tr>\n",
       "      <th>min</th>\n",
       "      <td>1000.000000</td>\n",
       "      <td>0.453318</td>\n",
       "    </tr>\n",
       "    <tr>\n",
       "      <th>25%</th>\n",
       "      <td>1249.750000</td>\n",
       "      <td>0.539854</td>\n",
       "    </tr>\n",
       "    <tr>\n",
       "      <th>50%</th>\n",
       "      <td>1499.500000</td>\n",
       "      <td>0.563434</td>\n",
       "    </tr>\n",
       "    <tr>\n",
       "      <th>75%</th>\n",
       "      <td>1749.250000</td>\n",
       "      <td>0.587108</td>\n",
       "    </tr>\n",
       "    <tr>\n",
       "      <th>max</th>\n",
       "      <td>1999.000000</td>\n",
       "      <td>0.676317</td>\n",
       "    </tr>\n",
       "  </tbody>\n",
       "</table>\n",
       "</div>"
      ],
      "text/plain": [
       "        Unnamed: 0  Sobol index\n",
       "count  1000.000000  1000.000000\n",
       "mean   1499.500000     0.563332\n",
       "std     288.819436     0.036202\n",
       "min    1000.000000     0.453318\n",
       "25%    1249.750000     0.539854\n",
       "50%    1499.500000     0.563434\n",
       "75%    1749.250000     0.587108\n",
       "max    1999.000000     0.676317"
      ]
     },
     "execution_count": 26,
     "metadata": {},
     "output_type": "execute_result"
    }
   ],
   "source": [
    "sobol_cc = ddp09.loc[(ddp09['Variable']=='X1') & (ddp09['sample']=='cc')].sort_values('Sobol index')\n",
    "\n",
    "ddp09.loc[(ddp09['Variable']=='X1') & (ddp09['sample']=='cc')].describe()"
   ]
  },
  {
   "cell_type": "code",
   "execution_count": 27,
   "metadata": {},
   "outputs": [
    {
     "data": {
      "text/plain": [
       "KstestResult(statistic=0.07528089887640449, pvalue=0.01287320065811789)"
      ]
     },
     "execution_count": 27,
     "metadata": {},
     "output_type": "execute_result"
    }
   ],
   "source": [
    "ks_2samp(sobol_complete['Sobol index'][100:990],sobol_cc['Sobol index'][100:990])"
   ]
  },
  {
   "cell_type": "code",
   "execution_count": null,
   "metadata": {},
   "outputs": [],
   "source": []
  }
 ],
 "metadata": {
  "kernelspec": {
   "display_name": "Python 3",
   "language": "python",
   "name": "python3"
  },
  "language_info": {
   "codemirror_mode": {
    "name": "ipython",
    "version": 3
   },
   "file_extension": ".py",
   "mimetype": "text/x-python",
   "name": "python",
   "nbconvert_exporter": "python",
   "pygments_lexer": "ipython3",
   "version": "3.8.5"
  }
 },
 "nbformat": 4,
 "nbformat_minor": 4
}
