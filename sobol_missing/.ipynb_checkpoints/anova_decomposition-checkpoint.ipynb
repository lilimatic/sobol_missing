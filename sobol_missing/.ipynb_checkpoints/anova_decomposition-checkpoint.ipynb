{
 "cells": [
  {
   "cell_type": "code",
   "execution_count": 1,
   "metadata": {},
   "outputs": [],
   "source": [
    "import numpy as np\n",
    "import pandas as pd\n",
    "import random\n",
    "\n",
    "from mpl_toolkits import mplot3d\n",
    "import matplotlib.pyplot as plt"
   ]
  },
  {
   "cell_type": "markdown",
   "metadata": {},
   "source": [
    "#### Create sample of size $d=3$"
   ]
  },
  {
   "cell_type": "code",
   "execution_count": 2,
   "metadata": {},
   "outputs": [],
   "source": [
    "random.seed(24)\n",
    "n=1000\n",
    "df = pd.DataFrame(np.random.uniform(0,1,size=(n, 3)))"
   ]
  },
  {
   "cell_type": "markdown",
   "metadata": {},
   "source": [
    "### Ishigami function \n",
    "\n",
    "Simulate values of $Y$ through relationship \n",
    "\n",
    "\\begin{equation}\n",
    "    Y = \\sin(X_{1})+ a \\sin^{2}(X_{2}) + b X_{3}^{4} \\sin(X_{1}) + \\varepsilon\n",
    "\\end{equation}\n",
    "\n",
    "We will keep the dimension fixed"
   ]
  },
  {
   "cell_type": "code",
   "execution_count": 4,
   "metadata": {},
   "outputs": [],
   "source": [
    "class dataset:\n",
    "    def __init__(self,n,p,df):\n",
    "        #Number of observations\n",
    "        self.n = n\n",
    "        #MCAR Bernoulli prob.\n",
    "        self.p = p\n",
    "        #data set \n",
    "        self.df = df \n",
    "        \n",
    "    #Ishigami function\n",
    "    \n",
    "    np.random.seed(24)   \n",
    "    def ishigami(self):\n",
    "        return lambda a, b: np.sin(self.df[0]) + a * np.sin(self.df[1])**2 + b * (self.df[2])**4 * np.sin(self.df[0])+ np.random.normal(0, 1, n)\n",
    "    \n",
    "    \n",
    "    #H-Sample with target from Ishigami function\n",
    "    def h_df(self,a,b):\n",
    "        self.df['Y'] = self.ishigami()(a,b)\n",
    "        return self.df\n",
    "    \n",
    "     #MCAR missing data mechanism\n",
    "    def mcar(self):\n",
    "        return pd.DataFrame(np.random.binomial(size=(self.n,3), n=1, p= self.p))\n",
    "    \n",
    "    #Callable function that depends on missingness mechanism\n",
    "    def data_missing(self):\n",
    "        return lambda x: self.df[x == 1]\n",
    "    \n",
    "    def sample(self, a, b):\n",
    "        return self.data_missing()(self.mcar()).assign(Y = self.ishigami()(a, b))\n",
    "    \n",
    "    #Complete case analysis\n",
    "    def cc(self,a,b):\n",
    "        return self.sample(a,b).dropna()\n",
    "    \n",
    "        \n",
    "    \n",
    " "
   ]
  },
  {
   "cell_type": "code",
   "execution_count": null,
   "metadata": {},
   "outputs": [],
   "source": [
    "test = dataset(n,0.75,df)\n",
    "sample = test.h_df(1,1)\n",
    "cc = test.cc(1,1)\n",
    "Y = sample['Y']"
   ]
  },
  {
   "cell_type": "code",
   "execution_count": null,
   "metadata": {},
   "outputs": [],
   "source": [
    "def ishigami_3d(x3,a,b,n1):\n",
    "    X, Y = np.meshgrid(df[0][:n1], df[1][:n1])\n",
    "\n",
    "    Z = np.sin(X) + a * np.sin(Y)**2 + b * (x3)**4 * np.sin(X) \n",
    "\n",
    "    fig = plt.figure(figsize = (12,10))\n",
    "    ax = plt.axes(projection='3d')\n",
    "\n",
    "    surf = ax.plot_surface(X, Y, Z)\n",
    "    ax.grid(False)\n",
    "    \n",
    "    ax.set_title('Surface plot for $X_{3}$ ='+str(x3))\n",
    "    \n",
    "    plt.show()\n",
    "\n",
    "ishigami_3d(x3=0.7,a=3,b=1,n1=100)"
   ]
  },
  {
   "cell_type": "code",
   "execution_count": null,
   "metadata": {},
   "outputs": [],
   "source": [
    "#Ishigami plots \n",
    "def ishigami_scatter(x3,a,b):\n",
    "    np.random.seed(24)\n",
    "    z = np.sin(df[0]) + a * np.sin(df[1])**2 + b * (x3)**4 * np.sin(df[0]) + np.random.normal(0, 1, n)\n",
    "    x = df[0]\n",
    "    y = df[1]\n",
    "    \n",
    "    fig = plt.figure(figsize = (10,10))\n",
    "    ax = plt.axes(projection='3d')\n",
    "    ax.grid()\n",
    "    \n",
    "    ax.scatter(x, y, z, c = 'r', s = 50)\n",
    "    ax.set_title('Ishigami function scatter plot for $X_{3}=$'+str(x3)+', a='+str(a)+' and b='+str(b))\n",
    "    \n",
    "    ax.set_xlabel('$X_{1}$', labelpad=20)\n",
    "    ax.set_ylabel('$X_{2}$', labelpad=20)\n",
    "    ax.set_zlabel('Y', labelpad=20)\n",
    "    ax.grid(False)\n",
    "    plt.savefig('Ishigami for X3='+str(x3)+', a='+str(a)+' and b='+str(b)+'.pdf', transparent=True)\n",
    "    return "
   ]
  },
  {
   "cell_type": "code",
   "execution_count": null,
   "metadata": {},
   "outputs": [],
   "source": [
    "#Ishigami illustrations\n",
    "#ishigami_scatter(x3=0.9,a=0.2,b=10)\n",
    "#ishigami_scatter(x3=0.6,a=10,b=0.2)\n",
    "#ishigami_scatter(x3=0.5,a=1,b=1)"
   ]
  },
  {
   "cell_type": "markdown",
   "metadata": {},
   "source": [
    "### Nonparametric regression with Naradaya-Watson estimator \n",
    "\n",
    "\\begin{equation}\n",
    "m_{n,nw}(\\mathbf{x})=\\frac{\\sum_{i=1}^n Y_i K\\left(\\frac{\\mathbf{x}-\\mathbf{X}_i}{h}\\right)}{\\sum_{i=1}^n K\\left(\\frac{\\mathbf{x}-\\mathbf{X}_i}{h}\\right)}\n",
    "\\end{equation}\n",
    "\n",
    "with the Gaussian Kernel"
   ]
  },
  {
   "cell_type": "code",
   "execution_count": null,
   "metadata": {},
   "outputs": [],
   "source": [
    "a=1\n",
    "b=1\n",
    "eps = np.random.seed(24)\n",
    "eps = np.random.normal(0, 1, n)\n",
    "\n",
    "#'def ishigami(self):\n",
    " #       return lambda a, b: np.sin(self.df[0]) + a * np.sin(self.df[1])**2 + b * (self.df[2])**4 * np.sin(self.df[0])+ np.random.normal(0, 1, n)'\n"
   ]
  },
  {
   "cell_type": "code",
   "execution_count": null,
   "metadata": {},
   "outputs": [],
   "source": [
    "class anova_ishigami:\n",
    "    def __init__(self,n,df):\n",
    "        \n",
    "        self.n = n\n",
    "        self.df = df\n",
    "        \n",
    "        np.random.seed(24)\n",
    "        eps =  np.random.normal(0, 1, self.n)\n",
    "        \n",
    "        \n",
    "    def grand_mean(self):\n",
    "        return np.mean(self.df['Y'])\n",
    "    \n",
    "    def main_effect1(self):\n",
    "        return lambda x: np.sin(x) + a * np.mean(np.sin(self.df[1])**2) + b * np.sin(x)* np.mean((self.df[2])**4)+np.mean(eps)  - self.grand_mean()\n",
    "    \n",
    "    def main_effect2(self):\n",
    "        return lambda x: np.mean(np.sin(self.df[0])) + a * np.sin(x)**2 +  b * np.mean((self.df[2])**4 * np.sin(self.df[0]))+np.mean(eps)   - self.grand_mean()\n",
    "                                 \n",
    "    def main_effect3(self):\n",
    "        return lambda x: np.mean(np.sin(self.df[0]) + a * np.sin(self.df[1])**2) + b * (x)**4 * np.mean(np.sin(self.df[0]))+np.mean(eps)  -self.grand_mean()\n",
    "        \n",
    "        "
   ]
  },
  {
   "cell_type": "code",
   "execution_count": null,
   "metadata": {},
   "outputs": [],
   "source": [
    "anova_sim = anova_ishigami(n,df)"
   ]
  },
  {
   "cell_type": "code",
   "execution_count": null,
   "metadata": {},
   "outputs": [],
   "source": [
    "plt.plot(np.linspace(0,1,n),anova_sim.main_effect1()(np.linspace(0,1,n))**2,c='b')\n",
    "plt.plot(np.linspace(0,1,n),anova_sim.main_effect2()(np.linspace(0,1,n))**2,c='r')\n",
    "plt.plot(np.linspace(0,1,n),anova_sim.main_effect3()(np.linspace(0,1,n))**2,c='orange')\n",
    "\n",
    "plt.savefig('variance_decomposition_ishigami.pdf',transparent=True)"
   ]
  },
  {
   "cell_type": "code",
   "execution_count": null,
   "metadata": {},
   "outputs": [],
   "source": [
    "    # MAR\n",
    "        elif mechanism == 'mar':\n",
    "            mar_sample = self.df.copy()\n",
    "            mar_sample['Y'] = beta1*self.df[0] + beta2 *self.df[1] + beta3 * self.df[0]*self.df[1] + self.error \n",
    "            print(\"Choose impactor:\")\n",
    "            x = input()\n",
    "            print('Choose impactor:')\n",
    "            y = input()\n",
    "            print('Choose missing quantile in %:')\n",
    "            z = input()\n",
    "            mar_sample[int(y)][(mar_sample[int(x)] > np.quantile(mar_sample[int(x)], int(z)/100))] = np.nan\n",
    "            mar_cc = mar_sample.dropna()\n",
    "            return ANOVA(mar_cc).linear_anova(beta1,beta2,beta3)"
   ]
  },
  {
   "cell_type": "code",
   "execution_count": null,
   "metadata": {},
   "outputs": [],
   "source": []
  }
 ],
 "metadata": {
  "kernelspec": {
   "display_name": "Python 3",
   "language": "python",
   "name": "python3"
  },
  "language_info": {
   "codemirror_mode": {
    "name": "ipython",
    "version": 3
   },
   "file_extension": ".py",
   "mimetype": "text/x-python",
   "name": "python",
   "nbconvert_exporter": "python",
   "pygments_lexer": "ipython3",
   "version": "3.8.5"
  }
 },
 "nbformat": 4,
 "nbformat_minor": 4
}
