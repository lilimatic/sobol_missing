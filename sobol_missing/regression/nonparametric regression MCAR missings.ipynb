{
 "cells": [
  {
   "cell_type": "code",
   "execution_count": 3,
   "metadata": {},
   "outputs": [],
   "source": [
    "import pandas as pd\n",
    "import numpy as np\n",
    "import matplotlib.pyplot as plt\n",
    "\n",
    "from dataload import *\n",
    "\n",
    "import statsmodels.nonparametric.api as nparam\n",
    "from statsmodels.nonparametric.kernel_regression import KernelReg\n",
    "#from sklearn.model_selection import train_test_split"
   ]
  },
  {
   "cell_type": "code",
   "execution_count": 4,
   "metadata": {},
   "outputs": [],
   "source": [
    "n = 1000\n",
    "p = 0.9\n",
    "a=1\n",
    "b=1"
   ]
  },
  {
   "cell_type": "code",
   "execution_count": 5,
   "metadata": {},
   "outputs": [],
   "source": [
    "df   = pd.DataFrame(np.random.uniform(0,1,size=(n, 3)),columns=['X1','X2','X3'])\n",
    "df_reg = df.copy()"
   ]
  },
  {
   "cell_type": "code",
   "execution_count": 6,
   "metadata": {},
   "outputs": [],
   "source": [
    "df_reg['Y'] = dataset(n,p,df_reg).h_df(a,b)"
   ]
  },
  {
   "cell_type": "code",
   "execution_count": 7,
   "metadata": {},
   "outputs": [
    {
     "name": "stdout",
     "output_type": "stream",
     "text": [
      "[1000, 0.21, 0.18, 0.15]\n",
      "['sample', '$\\textup{MSE} \\\\left\\\\{m_n \\\\left($X_1$\\right) \\right\\\\}$', '$\\textup{MSE} \\\\left\\\\{m_n \\\\left($X_2$\\right) \\right\\\\}$', '$\\textup{MSE} \\\\left\\\\{m_n \\\\left($X_3$\\right) \\right\\\\}$']\n"
     ]
    }
   ],
   "source": [
    "hsample_mse= [len(df_reg)]\n",
    "col1 = ['sample']\n",
    "\n",
    "for x in ['X1','X2','X3']:\n",
    "    col1.append('$\\textup{MSE} \\left\\{m_n \\left('+f'${x[0]}_{x[1:]}$'+'\\right) \\right\\}$')\n",
    "    X_pred = np.linspace(0, 1, n)\n",
    "    model= KernelReg(endog=[df_reg['Y'].to_numpy()],exog=[df_reg[x]],reg_type='lc',var_type='c', bw='cv_ls')\n",
    "    Y_pred, _ = model.fit(X_pred)\n",
    "    hsample_mse.append(round(np.mean((Y_pred-df_reg['Y'])**2),2))\n",
    "    fig = plt.figure()\n",
    "    ax = fig.add_subplot(1,1,1)\n",
    "    ax.plot(X_pred, Y_pred, alpha=0.5,lw=3,c='purple')\n",
    "    ax.plot(df[x],df_reg['Y'],'o',c='darkgrey',markersize=2)\n",
    "    ax.set_xlabel(f'${x[0]}_{x[1:]}$')\n",
    "    ax.set_ylabel('Y')\n",
    "    plt.close(fig)\n",
    "    fig.savefig('/Users/lilimatic/sobol_missing/images/regression/missing predictor mcar/H-Sample regression part '+str(x)+' in predictor.pdf',transparent=True,bbox_inches='tight')\n",
    "\n",
    "print(hsample_mse)\n",
    "print(col1)"
   ]
  },
  {
   "cell_type": "code",
   "execution_count": 8,
   "metadata": {},
   "outputs": [
    {
     "name": "stdout",
     "output_type": "stream",
     "text": [
      "Analysis for p=0.9\n",
      "Analysis for p=0.75\n",
      "Analysis for p=0.4\n"
     ]
    },
    {
     "data": {
      "text/plain": [
       "[[743, 0.22700277356153767, 0.1924475668315899, 0.15343869090719658],\n",
       " [433, 0.2335695600335717, 0.19649306092801064, 0.15453043505817043],\n",
       " [69, 0.18070740581870876, 0.1665502153256783, 0.21400162615082544]]"
      ]
     },
     "execution_count": 8,
     "metadata": {},
     "output_type": "execute_result"
    }
   ],
   "source": [
    "cc_mse = []\n",
    "\n",
    "for p in [0.9,0.75,0.4]:\n",
    "    print(f'Analysis for p={p}')\n",
    "    cc = dataset(n,p,df).mcar(a,b)\n",
    "    cc['Y'] = dataset(len(cc),p,cc).h_df(a,b)\n",
    "    #Fill list\n",
    "    p_list = [len(cc)]\n",
    "    ########################################\n",
    "    X_pred = np.linspace(0, 1, len(cc))\n",
    "    for x in ['X1','X2','X3']: \n",
    "        model_cc= KernelReg(endog=[cc['Y'].to_numpy()],exog=[cc[x]],reg_type='lc',var_type='c', bw='cv_ls')\n",
    "        Y_pred_cc, _ = model_cc.fit(X_pred)\n",
    "        p_list.append(np.mean((Y_pred_cc-cc['Y'])**2))\n",
    "        #print(p_list)\n",
    "        fig = plt.figure()\n",
    "        ax = fig.add_subplot(1,1,1)\n",
    "        plt.close(fig)\n",
    "        ax.plot(X_pred, Y_pred_cc, alpha=0.5,lw=3,c='red')\n",
    "        ax.plot(cc[x],cc['Y'],'o',c='black',markersize=2)\n",
    "        ax.set_xlabel(f'${x[0]}_{x[1:]}$')\n",
    "        ax.set_xlabel(f'${x[0]}_{x[1:]}$') \n",
    "        ax.set_ylabel('Y')\n",
    "        ax.set_ylim((0,2))\n",
    "    cc_mse.append(p_list)\n",
    "\n",
    "cc_mse\n",
    "\n",
    "#X1 [[76, 0.271408117552829], [49, 0.2986165008537631], [6, 0.13360902125670482]]\n",
    "#X2 [[75, 0.2469377547132062],[49, 0.17031647383800377],[10, 0.21397161619318475]]\n",
    "\n",
    "#X3 [[70, 0.1823793376986152], [42, 0.16863450861429116], [4, 0.2156401149004645]]"
   ]
  },
  {
   "cell_type": "code",
   "execution_count": 10,
   "metadata": {},
   "outputs": [],
   "source": [
    "mse_table = {'MSE / $\\pi $':col1, 'H-Sample':hsample_mse}\n",
    "\n",
    "tab1 = pd.DataFrame(mse_table)\n",
    "\n",
    "a = dict(zip(['p=0.9','p=0.75','p=0.4'],cc_mse))\n",
    "\n",
    "tab2 = pd.DataFrame(a)\n",
    "\n",
    "full = pd.concat([tab1,tab2],axis=1)\n",
    "\n",
    "#full\n",
    "#print(full.to_latex(index=False,float_format=\"{:.2f}\".format))"
   ]
  }
 ],
 "metadata": {
  "kernelspec": {
   "display_name": "Python 3",
   "language": "python",
   "name": "python3"
  },
  "language_info": {
   "codemirror_mode": {
    "name": "ipython",
    "version": 3
   },
   "file_extension": ".py",
   "mimetype": "text/x-python",
   "name": "python",
   "nbconvert_exporter": "python",
   "pygments_lexer": "ipython3",
   "version": "3.8.5"
  }
 },
 "nbformat": 4,
 "nbformat_minor": 4
}
