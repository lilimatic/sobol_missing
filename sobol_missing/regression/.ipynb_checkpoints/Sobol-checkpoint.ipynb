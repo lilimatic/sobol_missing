{
 "cells": [
  {
   "cell_type": "code",
   "execution_count": 1,
   "metadata": {},
   "outputs": [],
   "source": [
    "import os \n",
    "\n",
    "import pandas as pd\n",
    "import numpy as np\n",
    "import matplotlib.pyplot as plt\n",
    "\n",
    "import statsmodels.nonparametric.api as nparam\n",
    "from statsmodels.nonparametric.kernel_regression import KernelReg"
   ]
  },
  {
   "cell_type": "code",
   "execution_count": 2,
   "metadata": {},
   "outputs": [],
   "source": [
    "#os.getcwd()\n",
    "\n",
    "os.chdir('/Users/lilimatic/sobol_missing')"
   ]
  },
  {
   "cell_type": "code",
   "execution_count": 3,
   "metadata": {},
   "outputs": [],
   "source": [
    "from dataload import *"
   ]
  },
  {
   "cell_type": "code",
   "execution_count": 4,
   "metadata": {},
   "outputs": [],
   "source": [
    "n = 1000\n",
    "p=0.9\n",
    "\n",
    "sim = 100\n",
    "\n",
    "a= 1\n",
    "b=1"
   ]
  },
  {
   "cell_type": "code",
   "execution_count": 5,
   "metadata": {},
   "outputs": [],
   "source": [
    "df   = pd.DataFrame(np.random.uniform(0,1,size=(n, 3)),columns=['X1','X2','X3'])"
   ]
  },
  {
   "cell_type": "markdown",
   "metadata": {},
   "source": [
    "### Computation of Sobol index on estimation level"
   ]
  },
  {
   "cell_type": "markdown",
   "metadata": {},
   "source": [
    "#### Training the model "
   ]
  },
  {
   "cell_type": "code",
   "execution_count": 6,
   "metadata": {},
   "outputs": [],
   "source": [
    "### \n",
    "df_reg = df.copy()\n",
    "df_reg['Y'] = dataset(n,p,df_reg).h_df(a,b)"
   ]
  },
  {
   "cell_type": "code",
   "execution_count": 7,
   "metadata": {},
   "outputs": [],
   "source": [
    "## Estimation procedure NW estimator \n",
    "model = KernelReg(endog=[df_reg['Y'].to_numpy()],exog=[df['X1'],df['X2'],df['X3']],reg_type='lc',var_type='ccc', bw='cv_ls')\n"
   ]
  },
  {
   "cell_type": "code",
   "execution_count": 8,
   "metadata": {},
   "outputs": [],
   "source": [
    "df_reg['Y_hat'] = model.fit([df['X1'],df['X2'],df['X3']])[0]\n",
    "\n",
    "#df_reg"
   ]
  },
  {
   "cell_type": "markdown",
   "metadata": {},
   "source": [
    "#### Errors "
   ]
  },
  {
   "cell_type": "code",
   "execution_count": 9,
   "metadata": {},
   "outputs": [],
   "source": [
    "#1) Traning error \n",
    "\n",
    "train_mse = np.mean((model.fit([df['X1'],df['X2'],df['X3']])[0] -df_reg['Y'])**2)"
   ]
  },
  {
   "cell_type": "code",
   "execution_count": 10,
   "metadata": {},
   "outputs": [],
   "source": [
    "#2) Test error on freshly generated dat a\n",
    "\n",
    "#Test set error \n",
    "general_mse = np.mean((model.fit([np.random.uniform(0,1,size=(n, 1))]*3)[0] - df_reg['Y'])**2)\n"
   ]
  },
  {
   "cell_type": "code",
   "execution_count": 11,
   "metadata": {},
   "outputs": [],
   "source": [
    "#3) Test error on discrete lin\n",
    "X_pred = [np.linspace(0, 1, n)]*3\n",
    "\n",
    "general_mse_line =np.mean((model.fit(X_pred)[0] - df_reg['Y'])**2)\n",
    "\n",
    "#Conclusion: Vast overfitting !"
   ]
  },
  {
   "cell_type": "markdown",
   "metadata": {},
   "source": [
    "#### Training the pick-freezed model"
   ]
  },
  {
   "cell_type": "code",
   "execution_count": 12,
   "metadata": {},
   "outputs": [],
   "source": [
    "#Interest in importance of X1\n",
    "request = ['X1','X2']\n",
    "\n",
    "newdf   = dataset(n,p,df).picked(request,a,b)\n",
    "\n",
    "newdf['Y'] = dataset(n,p,newdf).toyreg()(a,b)"
   ]
  },
  {
   "cell_type": "code",
   "execution_count": null,
   "metadata": {},
   "outputs": [],
   "source": [
    "#Train pick-freezed model\n",
    "\n",
    "model_pf = KernelReg(endog=[newdf['Y'].to_numpy()],exog=[newdf['X1'],newdf['X2'],newdf['X3']],reg_type='lc',var_type='ccc', bw='cv_ls')\n"
   ]
  },
  {
   "cell_type": "code",
   "execution_count": null,
   "metadata": {},
   "outputs": [],
   "source": [
    "newdf['Y_hat'] = model_pf.fit([newdf['X1'],newdf['X2'],newdf['X3']])[0]"
   ]
  },
  {
   "cell_type": "markdown",
   "metadata": {},
   "source": [
    "#### Errors"
   ]
  },
  {
   "cell_type": "code",
   "execution_count": null,
   "metadata": {},
   "outputs": [],
   "source": [
    "## Errors \n",
    "\n",
    "#1) Traning error \n",
    "\n",
    "train_mse = np.mean((model_pf.fit([newdf['X1'],newdf['X2'],newdf['X3']])[0] -newdf['Y'])**2)\n",
    "train_mse"
   ]
  },
  {
   "cell_type": "code",
   "execution_count": null,
   "metadata": {},
   "outputs": [],
   "source": [
    "#2) Test error on freshly generated dat a\n",
    "\n",
    "#Test set error \n",
    "general_mse = np.mean((model_pf.fit([np.random.uniform(0,1,size=(n, 1))]*3)[0] - df_reg['Y'])**2)\n",
    "general_mse"
   ]
  },
  {
   "cell_type": "code",
   "execution_count": null,
   "metadata": {},
   "outputs": [],
   "source": [
    "#3) Test error on discrete lin\n",
    "X_pred = [np.linspace(0, 1, n)]*3\n",
    "\n",
    "general_mse_line =np.mean((model_pf.fit(X_pred)[0] - df_reg['Y'])**2)\n",
    "\n",
    "general_mse_line\n",
    "#Conclusion: Vast overfitting !"
   ]
  },
  {
   "cell_type": "code",
   "execution_count": null,
   "metadata": {},
   "outputs": [],
   "source": [
    "#### Computation of Sobol indices \n",
    "\n",
    "(np.cov(df_reg['Y_hat'],newdf['Y_hat'])[0][1])/(np.var(df_reg['Y_hat']))\n"
   ]
  },
  {
   "cell_type": "code",
   "execution_count": null,
   "metadata": {},
   "outputs": [],
   "source": []
  },
  {
   "cell_type": "code",
   "execution_count": null,
   "metadata": {},
   "outputs": [],
   "source": []
  },
  {
   "cell_type": "code",
   "execution_count": null,
   "metadata": {},
   "outputs": [],
   "source": []
  }
 ],
 "metadata": {
  "kernelspec": {
   "display_name": "Python 3",
   "language": "python",
   "name": "python3"
  },
  "language_info": {
   "codemirror_mode": {
    "name": "ipython",
    "version": 3
   },
   "file_extension": ".py",
   "mimetype": "text/x-python",
   "name": "python",
   "nbconvert_exporter": "python",
   "pygments_lexer": "ipython3",
   "version": "3.8.5"
  }
 },
 "nbformat": 4,
 "nbformat_minor": 4
}
