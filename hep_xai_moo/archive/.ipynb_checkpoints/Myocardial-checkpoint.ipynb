{
 "cells": [
  {
   "cell_type": "code",
   "execution_count": 1,
   "metadata": {},
   "outputs": [],
   "source": [
    "import pandas as pd\n",
    "import numpy as np\n",
    "\n",
    "import missingno as msno\n",
    "\n",
    "\n",
    "from sklearn.linear_model import LogisticRegression\n",
    "from sklearn.model_selection import train_test_split\n",
    "import matplotlib.pyplot as plt\n",
    "\n",
    "from sklearn.experimental import enable_iterative_imputer\n",
    "from sklearn.impute import IterativeImputer\n",
    "\n",
    "from ucimlrepo import fetch_ucirepo \n",
    "\n",
    "\n",
    "  "
   ]
  },
  {
   "cell_type": "code",
   "execution_count": 2,
   "metadata": {},
   "outputs": [],
   "source": [
    "myocardial_infarction_complications = fetch_ucirepo(id=579) \n",
    "  \n",
    "# Data\n",
    "X = myocardial_infarction_complications.data.features\n",
    "y = myocardial_infarction_complications.data.targets"
   ]
  },
  {
   "cell_type": "code",
   "execution_count": 3,
   "metadata": {},
   "outputs": [],
   "source": [
    "#len(y.columns) #12 categories\n",
    "#print(Counter(y))"
   ]
  },
  {
   "cell_type": "markdown",
   "metadata": {},
   "source": [
    "### We are intersted in predicting leathal outcome \n",
    "\n",
    "Metadata (Lethal outcome (cause))\n",
    "\n",
    "124  (LET_IS): \n",
    "0: unknown (alive)\n",
    "\n",
    "Lethal outcomes:\n",
    "1: cardiogenic shock\n",
    "2: pulmonary edema\n",
    "3: myocardial rupture\n",
    "4: progress of congestive heart failure\n",
    "5: thromboembolism\n",
    "6: asystole\n",
    "7: ventricular fibrillation"
   ]
  },
  {
   "cell_type": "code",
   "execution_count": 4,
   "metadata": {},
   "outputs": [],
   "source": [
    "### Classification of survival "
   ]
  },
  {
   "cell_type": "code",
   "execution_count": 5,
   "metadata": {},
   "outputs": [],
   "source": [
    "#Pool data to probability of survival (no missing values)\n",
    "Y = y[['LET_IS']]\n",
    "\n",
    "#Classification task\n",
    "Y = pd.DataFrame(np.where(Y == 0, 1, 0),columns=['target'])\n",
    "\n",
    "#Y"
   ]
  },
  {
   "cell_type": "markdown",
   "metadata": {},
   "source": [
    "### Analysis of input \n",
    "\n",
    "Interested in survival after 3 days.\n",
    "\n",
    "\"the end of the third day (72 hours after admission to the hospital) all input columns (2- 112) can be used for prediction\"\n"
   ]
  },
  {
   "cell_type": "code",
   "execution_count": 6,
   "metadata": {},
   "outputs": [],
   "source": [
    "#len(X.columns) 111 variables \n",
    "\n",
    "#Analysis of missing values\n",
    "#plt.figure(figsize = (20,10))\n",
    "#msno.bar(X)\n",
    "#plt.show()"
   ]
  },
  {
   "cell_type": "code",
   "execution_count": 7,
   "metadata": {},
   "outputs": [],
   "source": [
    "# The variables 'IBS_NASL' and 'KFK_BLOOD' are disregarded by reason of a substancial number of missing values. \n",
    "\n",
    "x = X.loc[:, ~X.columns.isin(['IBS_NASL','KFK_BLOOD','NA_KB','D_AD_KBRIG','S_AD_KBRIG'])]\n",
    "\n",
    "#Further missing data management needs detailed information about the variables. \n",
    "\n",
    "#len(x.columns)"
   ]
  },
  {
   "cell_type": "code",
   "execution_count": 8,
   "metadata": {},
   "outputs": [],
   "source": [
    "df_reg = pd.concat([x,Y],axis=1)"
   ]
  },
  {
   "cell_type": "code",
   "execution_count": 13,
   "metadata": {},
   "outputs": [],
   "source": [
    "#add tomorrow \n",
    "\n",
    "#imputation = IterativeImputer(estimator=LogisticRegression(), initial_strategy='most_frequent',max_iter=10, random_state=0)\n",
    "#df_reg = imputation.fit_transform(df_reg[categorical])\n",
    "#df_reg= imputation.transform(df_reg[categorical])\n",
    "#print(df_reg)"
   ]
  },
  {
   "cell_type": "code",
   "execution_count": 440,
   "metadata": {},
   "outputs": [
    {
     "data": {
      "text/plain": [
       "353"
      ]
     },
     "execution_count": 440,
     "metadata": {},
     "output_type": "execute_result"
    }
   ],
   "source": [
    "## Very harsh complete-case analysis BEFORE TRAIN-TEST SPLIT\n",
    "\n",
    "df_reg = df_reg.dropna()\n",
    "\n",
    "len(df_reg.iloc[:,-1])"
   ]
  },
  {
   "cell_type": "code",
   "execution_count": 426,
   "metadata": {},
   "outputs": [],
   "source": [
    "X_train, X_test, y_train, y_test = train_test_split(df_reg.loc[:, df_reg.columns != 'target'], df_reg['target'], test_size=0.3)"
   ]
  },
  {
   "cell_type": "code",
   "execution_count": 427,
   "metadata": {},
   "outputs": [
    {
     "name": "stderr",
     "output_type": "stream",
     "text": [
      "/Users/lilimatic/opt/anaconda3/lib/python3.8/site-packages/sklearn/linear_model/_logistic.py:763: ConvergenceWarning: lbfgs failed to converge (status=1):\n",
      "STOP: TOTAL NO. of ITERATIONS REACHED LIMIT.\n",
      "\n",
      "Increase the number of iterations (max_iter) or scale the data as shown in:\n",
      "    https://scikit-learn.org/stable/modules/preprocessing.html\n",
      "Please also refer to the documentation for alternative solver options:\n",
      "    https://scikit-learn.org/stable/modules/linear_model.html#logistic-regression\n",
      "  n_iter_i = _check_optimize_result(\n"
     ]
    },
    {
     "data": {
      "text/plain": [
       "LogisticRegression()"
      ]
     },
     "execution_count": 427,
     "metadata": {},
     "output_type": "execute_result"
    }
   ],
   "source": [
    "#Run logistic regression \n",
    "\n",
    "log_reg = LogisticRegression()\n",
    "\n",
    "log_reg.fit(X_train, y_train)"
   ]
  },
  {
   "cell_type": "code",
   "execution_count": 428,
   "metadata": {},
   "outputs": [],
   "source": [
    "#log_reg.predict(X_train)"
   ]
  },
  {
   "cell_type": "code",
   "execution_count": 429,
   "metadata": {},
   "outputs": [
    {
     "data": {
      "text/plain": [
       "0.9390243902439024"
      ]
     },
     "execution_count": 429,
     "metadata": {},
     "output_type": "execute_result"
    }
   ],
   "source": [
    "log_reg.score(X_train, y_train)"
   ]
  },
  {
   "cell_type": "code",
   "execution_count": 430,
   "metadata": {},
   "outputs": [
    {
     "data": {
      "text/plain": [
       "0.9056603773584906"
      ]
     },
     "execution_count": 430,
     "metadata": {},
     "output_type": "execute_result"
    }
   ],
   "source": [
    "log_reg.score(X_test, y_test) # good performance but only on those 352 "
   ]
  },
  {
   "cell_type": "code",
   "execution_count": null,
   "metadata": {},
   "outputs": [],
   "source": []
  }
 ],
 "metadata": {
  "kernelspec": {
   "display_name": "Python 3",
   "language": "python",
   "name": "python3"
  },
  "language_info": {
   "codemirror_mode": {
    "name": "ipython",
    "version": 3
   },
   "file_extension": ".py",
   "mimetype": "text/x-python",
   "name": "python",
   "nbconvert_exporter": "python",
   "pygments_lexer": "ipython3",
   "version": "3.8.5"
  }
 },
 "nbformat": 4,
 "nbformat_minor": 4
}
