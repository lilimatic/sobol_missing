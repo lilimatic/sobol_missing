{
 "cells": [
  {
   "cell_type": "code",
   "execution_count": 1,
   "metadata": {},
   "outputs": [
    {
     "name": "stderr",
     "output_type": "stream",
     "text": [
      "/Users/lilimatic/opt/anaconda3/lib/python3.8/site-packages/pandas/core/computation/expressions.py:20: UserWarning: Pandas requires version '2.7.3' or newer of 'numexpr' (version '2.7.1' currently installed).\n",
      "  from pandas.core.computation.check import NUMEXPR_INSTALLED\n"
     ]
    }
   ],
   "source": [
    "from data import *\n",
    "\n",
    "from interpret.glassbox import ExplainableBoostingClassifier\n",
    "\n",
    "\n",
    "# Hyperparameter tuning\n",
    "from sklearn.model_selection import RandomizedSearchCV\n",
    "\n",
    "from sklearn.model_selection import cross_val_score\n",
    "\n",
    "from sklearn.model_selection import train_test_split\n",
    "\n",
    "import numpy as np"
   ]
  },
  {
   "cell_type": "code",
   "execution_count": 4,
   "metadata": {},
   "outputs": [],
   "source": [
    "def ebm_tuning_cv(X,y):\n",
    "    param_dist = {\n",
    "    'max_bins' :[1024, 4096, 16384, 65536],\n",
    "    'max_interaction_bins': [8, 16, 32, 64, 128, 256],\n",
    "    'interactions': [0, 0.25, 0.5, 0.75, 0.95], # was set to zero to have GAM, exclude\n",
    "    'learning_rate':[0.02, 0.01, 0.005, 0.0025],\n",
    "    'greediness': [0.0, 0.25, 0.5, 0.75, 1.0, 1.25, 1.5, 1.75, 2.0, 4.0],\n",
    "    #'cyclic_progress': [0.0, 0.25, 0.5, 1.0],\n",
    "    'smoothing_rounds': [0, 50, 100, 200, 500, 1000, 2000, 4000],\n",
    "    'interaction_smoothing_rounds': [0, 50, 100, 500],\n",
    "    'min_hessian': [1.0, 0.01, 0.0001, 0.000001]}\n",
    "    \n",
    "    ebm = ExplainableBoostingClassifier()\n",
    "    random_search = RandomizedSearchCV(ebm, param_distributions=param_dist, n_iter=10, cv=5,scoring='roc_auc')\n",
    "    random_search.fit(X, y)\n",
    "    return random_search"
   ]
  },
  {
   "cell_type": "code",
   "execution_count": 5,
   "metadata": {},
   "outputs": [
    {
     "name": "stderr",
     "output_type": "stream",
     "text": [
      "/Users/lilimatic/opt/anaconda3/lib/python3.8/site-packages/sklearn/model_selection/_validation.py:425: FitFailedWarning: \n",
      "15 fits failed out of a total of 50.\n",
      "The score on these train-test partitions for these parameters will be set to nan.\n",
      "If these failures are not expected, you can try to debug them by setting error_score='raise'.\n",
      "\n",
      "Below are more details about the failures:\n",
      "--------------------------------------------------------------------------------\n",
      "15 fits failed with the following error:\n",
      "Traceback (most recent call last):\n",
      "  File \"/Users/lilimatic/opt/anaconda3/lib/python3.8/site-packages/sklearn/model_selection/_validation.py\", line 729, in _fit_and_score\n",
      "    estimator.fit(X_train, y_train, **fit_params)\n",
      "  File \"/Users/lilimatic/opt/anaconda3/lib/python3.8/site-packages/interpret/glassbox/_ebm/_ebm.py\", line 467, in fit\n",
      "    raise ValueError(msg)\n",
      "ValueError: greediness must be a percentage between 0.0 and 1.0 inclusive\n",
      "\n",
      "  warnings.warn(some_fits_failed_message, FitFailedWarning)\n",
      "/Users/lilimatic/opt/anaconda3/lib/python3.8/site-packages/sklearn/model_selection/_search.py:979: UserWarning: One or more of the test scores are non-finite: [0.84571429        nan 0.86190476 0.8347619  0.82809524        nan\n",
      "        nan 0.88761905 0.85142857 0.86      ]\n",
      "  warnings.warn(\n"
     ]
    }
   ],
   "source": [
    "random_search = ebm_tuning_cv(X_train,y_train)\n",
    "        "
   ]
  },
  {
   "cell_type": "code",
   "execution_count": 6,
   "metadata": {},
   "outputs": [],
   "source": [
    "training = ExplainableBoostingClassifier(**random_search.best_params_)"
   ]
  },
  {
   "cell_type": "code",
   "execution_count": 7,
   "metadata": {},
   "outputs": [],
   "source": [
    "cv_aucs = cross_val_score(training,X,y,cv=10,scoring='roc_auc')\n",
    "        #scora\n",
    "\n",
    "auc = np.mean(cv_aucs)"
   ]
  },
  {
   "cell_type": "code",
   "execution_count": 8,
   "metadata": {},
   "outputs": [
    {
     "data": {
      "text/plain": [
       "0.8816666666666666"
      ]
     },
     "execution_count": 8,
     "metadata": {},
     "output_type": "execute_result"
    }
   ],
   "source": [
    "auc"
   ]
  },
  {
   "cell_type": "code",
   "execution_count": null,
   "metadata": {},
   "outputs": [],
   "source": []
  },
  {
   "cell_type": "code",
   "execution_count": null,
   "metadata": {},
   "outputs": [],
   "source": []
  }
 ],
 "metadata": {
  "kernelspec": {
   "display_name": "Python 3",
   "language": "python",
   "name": "python3"
  },
  "language_info": {
   "codemirror_mode": {
    "name": "ipython",
    "version": 3
   },
   "file_extension": ".py",
   "mimetype": "text/x-python",
   "name": "python",
   "nbconvert_exporter": "python",
   "pygments_lexer": "ipython3",
   "version": "3.8.5"
  }
 },
 "nbformat": 4,
 "nbformat_minor": 4
}
