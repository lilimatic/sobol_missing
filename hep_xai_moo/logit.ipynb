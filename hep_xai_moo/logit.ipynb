{
 "cells": [
  {
   "cell_type": "code",
   "execution_count": 33,
   "metadata": {},
   "outputs": [],
   "source": [
    "import pandas as pd\n",
    "import numpy as np\n",
    "\n",
    "import missingno as msno\n",
    "\n",
    "import statsmodels.api as sm\n",
    "from scipy import stats\n",
    "\n",
    "import matplotlib.pyplot as plt\n",
    "\n",
    "from ucimlrepo import fetch_ucirepo \n",
    "\n",
    "from sklearn.linear_model import LogisticRegression\n",
    "from sklearn.model_selection import train_test_split"
   ]
  },
  {
   "cell_type": "code",
   "execution_count": 34,
   "metadata": {},
   "outputs": [],
   "source": [
    "myocardial_infarction_complications = fetch_ucirepo(id=579) \n",
    "  \n",
    "# Data\n",
    "x = myocardial_infarction_complications.data.features\n",
    "y = myocardial_infarction_complications.data.targets"
   ]
  },
  {
   "cell_type": "code",
   "execution_count": 35,
   "metadata": {},
   "outputs": [],
   "source": [
    "#Classification task (T)\n",
    "Y = pd.DataFrame(np.where(y[['LET_IS']] == 0, 1, 0),columns=['target'])"
   ]
  },
  {
   "cell_type": "code",
   "execution_count": 37,
   "metadata": {},
   "outputs": [],
   "source": [
    "df = pd.concat([x,Y],axis=1)"
   ]
  },
  {
   "cell_type": "code",
   "execution_count": 38,
   "metadata": {},
   "outputs": [],
   "source": [
    "#remove variables with too many missing values\n",
    "\n",
    "df = df.loc[:, ~df.columns.isin(['IBS_NASL','KFK_BLOOD','NA_KB','D_AD_KBRIG','S_AD_KBRIG','LID_KB','NA_KB','NOT_NA_KB'])]"
   ]
  },
  {
   "cell_type": "code",
   "execution_count": 52,
   "metadata": {},
   "outputs": [
    {
     "data": {
      "text/plain": [
       "105"
      ]
     },
     "execution_count": 52,
     "metadata": {},
     "output_type": "execute_result"
    }
   ],
   "source": [
    "len(df.columns)"
   ]
  },
  {
   "cell_type": "code",
   "execution_count": 53,
   "metadata": {},
   "outputs": [],
   "source": [
    "## Complete-case analysis reduces sample to n=544 observations. \n",
    "\n",
    "df_cc = df.copy().dropna()"
   ]
  },
  {
   "cell_type": "code",
   "execution_count": 54,
   "metadata": {},
   "outputs": [],
   "source": [
    "X_train, X_test, y_train, y_test = train_test_split(df_cc.loc[:, df_cc.columns != 'target'], df_cc['target'], test_size=0.3)"
   ]
  },
  {
   "cell_type": "code",
   "execution_count": 61,
   "metadata": {},
   "outputs": [
    {
     "name": "stderr",
     "output_type": "stream",
     "text": [
      "/Users/lilimatic/opt/anaconda3/lib/python3.8/site-packages/sklearn/linear_model/_logistic.py:763: ConvergenceWarning: lbfgs failed to converge (status=1):\n",
      "STOP: TOTAL NO. of ITERATIONS REACHED LIMIT.\n",
      "\n",
      "Increase the number of iterations (max_iter) or scale the data as shown in:\n",
      "    https://scikit-learn.org/stable/modules/preprocessing.html\n",
      "Please also refer to the documentation for alternative solver options:\n",
      "    https://scikit-learn.org/stable/modules/linear_model.html#logistic-regression\n",
      "  n_iter_i = _check_optimize_result(\n"
     ]
    },
    {
     "data": {
      "text/plain": [
       "LogisticRegression()"
      ]
     },
     "execution_count": 61,
     "metadata": {},
     "output_type": "execute_result"
    }
   ],
   "source": [
    "#Run logistic regression \n",
    "\n",
    "log_reg = LogisticRegression()\n",
    "\n",
    "log_reg.fit(X_train, y_train)"
   ]
  },
  {
   "cell_type": "code",
   "execution_count": 56,
   "metadata": {},
   "outputs": [
    {
     "data": {
      "text/plain": [
       "0.9236842105263158"
      ]
     },
     "execution_count": 56,
     "metadata": {},
     "output_type": "execute_result"
    }
   ],
   "source": [
    "log_reg.score(X_train, y_train)"
   ]
  },
  {
   "cell_type": "code",
   "execution_count": 57,
   "metadata": {},
   "outputs": [
    {
     "data": {
      "text/plain": [
       "0.9024390243902439"
      ]
     },
     "execution_count": 57,
     "metadata": {},
     "output_type": "execute_result"
    }
   ],
   "source": [
    "log_reg.score(X_test, y_test) # good performance but only on those 544"
   ]
  },
  {
   "cell_type": "code",
   "execution_count": 67,
   "metadata": {},
   "outputs": [
    {
     "data": {
      "text/plain": [
       "0.87"
      ]
     },
     "execution_count": 67,
     "metadata": {},
     "output_type": "execute_result"
    }
   ],
   "source": [
    "#Evaluate performance on fresh outputs random values from $Y$ into the analysis\n",
    "log_reg.score(df_cc.loc[:, df_cc.columns != 'target'].sample(200),Y.sample(n=200))"
   ]
  },
  {
   "cell_type": "code",
   "execution_count": 77,
   "metadata": {},
   "outputs": [],
   "source": [
    "#Results from analysis\n",
    "\n",
    "X2 = sm.add_constant(df_cc.loc[:, df_cc.columns != 'target'])\n",
    "log_model = sm.OLS(df_cc['target'], X2)\n",
    "log_model2 = log_model.fit()\n"
   ]
  },
  {
   "cell_type": "code",
   "execution_count": 78,
   "metadata": {},
   "outputs": [
    {
     "name": "stdout",
     "output_type": "stream",
     "text": [
      "                            OLS Regression Results                            \n",
      "==============================================================================\n",
      "Dep. Variable:                 target   R-squared:                       0.311\n",
      "Model:                            OLS   Adj. R-squared:                  0.180\n",
      "Method:                 Least Squares   F-statistic:                     2.368\n",
      "Date:                Sat, 11 Nov 2023   Prob (F-statistic):           4.71e-09\n",
      "Time:                        19:37:02   Log-Likelihood:                 4.9654\n",
      "No. Observations:                 544   AIC:                             166.1\n",
      "Df Residuals:                     456   BIC:                             544.4\n",
      "Df Model:                          87                                         \n",
      "Covariance Type:            nonrobust                                         \n",
      "=================================================================================\n",
      "                    coef    std err          t      P>|t|      [0.025      0.975]\n",
      "---------------------------------------------------------------------------------\n",
      "const             1.3111      0.280      4.680      0.000       0.761       1.862\n",
      "AGE              -0.0026      0.001     -2.138      0.033      -0.005      -0.000\n",
      "SEX               0.0070      0.030      0.230      0.819      -0.053       0.067\n",
      "INF_ANAM          0.0068      0.018      0.387      0.699      -0.028       0.041\n",
      "STENOK_AN        -0.0185      0.008     -2.247      0.025      -0.035      -0.002\n",
      "FK_STENOK         0.0455      0.019      2.340      0.020       0.007       0.084\n",
      "IBS_POST         -0.0402      0.017     -2.343      0.020      -0.074      -0.006\n",
      "GB                0.0031      0.021      0.147      0.883      -0.038       0.044\n",
      "SIM_GIPERT       -0.0264      0.080     -0.330      0.742      -0.184       0.131\n",
      "DLIT_AG          -0.0060      0.008     -0.787      0.432      -0.021       0.009\n",
      "ZSN_A             0.0196      0.033      0.598      0.550      -0.045       0.084\n",
      "nr_11             0.0452      0.099      0.458      0.647      -0.149       0.239\n",
      "nr_01             0.8064      0.339      2.376      0.018       0.139       1.473\n",
      "nr_02             0.0360      0.126      0.286      0.775      -0.212       0.284\n",
      "nr_03            -0.0830      0.131     -0.632      0.528      -0.341       0.175\n",
      "nr_04            -0.5509      0.172     -3.203      0.001      -0.889      -0.213\n",
      "nr_07          3.456e-16   6.38e-16      0.542      0.588   -9.07e-16     1.6e-15\n",
      "nr_08             0.0874      0.144      0.605      0.546      -0.196       0.371\n",
      "np_01         -3.551e-16   2.66e-16     -1.335      0.183   -8.78e-16    1.68e-16\n",
      "np_04             0.0874      0.144      0.605      0.546      -0.196       0.371\n",
      "np_05             0.0337      0.212      0.159      0.874      -0.384       0.451\n",
      "np_07          4.269e-16   3.71e-16      1.150      0.251   -3.03e-16    1.16e-15\n",
      "np_08             0.2240      0.308      0.728      0.467      -0.381       0.829\n",
      "np_09          3.979e-16   2.99e-16      1.329      0.184    -1.9e-16    9.86e-16\n",
      "np_10          3.324e-16   2.63e-16      1.265      0.207   -1.84e-16    8.49e-16\n",
      "endocr_01        -0.0947      0.038     -2.512      0.012      -0.169      -0.021\n",
      "endocr_02        -0.1650      0.092     -1.802      0.072      -0.345       0.015\n",
      "endocr_03         0.1469      0.139      1.054      0.292      -0.127       0.421\n",
      "zab_leg_01        0.0113      0.050      0.225      0.822      -0.088       0.110\n",
      "zab_leg_02       -0.0953      0.049     -1.937      0.053      -0.192       0.001\n",
      "zab_leg_03        0.0422      0.121      0.348      0.728      -0.196       0.281\n",
      "zab_leg_04        0.2162      0.283      0.763      0.446      -0.341       0.773\n",
      "zab_leg_06        0.1026      0.131      0.781      0.435      -0.156       0.361\n",
      "S_AD_ORIT         0.0018      0.001      2.098      0.036       0.000       0.003\n",
      "D_AD_ORIT        -0.0031      0.002     -1.843      0.066      -0.006       0.000\n",
      "O_L_POST          0.0712      0.056      1.264      0.207      -0.040       0.182\n",
      "K_SH_POST         0.1389      0.277      0.501      0.617      -0.406       0.684\n",
      "MP_TP_POST       -0.1384      0.128     -1.078      0.282      -0.391       0.114\n",
      "SVT_POST       2.015e-16   2.04e-16      0.986      0.325      -2e-16    6.03e-16\n",
      "GT_POST           0.2806      0.307      0.913      0.362      -0.323       0.884\n",
      "FIB_G_POST        0.0443      0.164      0.270      0.788      -0.278       0.367\n",
      "ant_im           -0.0229      0.010     -2.222      0.027      -0.043      -0.003\n",
      "lat_im           -0.0177      0.017     -1.035      0.301      -0.051       0.016\n",
      "inf_im           -0.0173      0.012     -1.493      0.136      -0.040       0.005\n",
      "post_im           0.0052      0.018      0.284      0.776      -0.031       0.041\n",
      "IM_PG_P          -0.1406      0.074     -1.904      0.058      -0.286       0.005\n",
      "ritm_ecg_p_01     0.2385      0.069      3.438      0.001       0.102       0.375\n",
      "ritm_ecg_p_02     0.4505      0.141      3.203      0.001       0.174       0.727\n",
      "ritm_ecg_p_04     0.1299      0.187      0.693      0.489      -0.238       0.498\n",
      "ritm_ecg_p_06  2.758e-16   1.53e-16      1.803      0.072   -2.48e-17    5.76e-16\n",
      "ritm_ecg_p_07     0.2405      0.072      3.353      0.001       0.100       0.381\n",
      "ritm_ecg_p_08     0.2516      0.085      2.943      0.003       0.084       0.420\n",
      "n_r_ecg_p_01      0.0121      0.060      0.203      0.839      -0.105       0.129\n",
      "n_r_ecg_p_02      0.0936      0.273      0.343      0.731      -0.442       0.629\n",
      "n_r_ecg_p_03     -0.0558      0.040     -1.397      0.163      -0.134       0.023\n",
      "n_r_ecg_p_04     -0.0515      0.064     -0.806      0.421      -0.177       0.074\n",
      "n_r_ecg_p_05     -0.1791      0.123     -1.457      0.146      -0.421       0.063\n",
      "n_r_ecg_p_06      0.3971      0.206      1.925      0.055      -0.008       0.802\n",
      "n_r_ecg_p_08   9.106e-17      1e-16      0.910      0.364   -1.06e-16    2.88e-16\n",
      "n_r_ecg_p_09  -1.289e-16      2e-16     -0.644      0.520   -5.22e-16    2.64e-16\n",
      "n_r_ecg_p_10  -7.748e-18   1.39e-16     -0.056      0.956   -2.81e-16    2.65e-16\n",
      "n_p_ecg_p_01   7.221e-17    1.2e-16      0.603      0.547   -1.63e-16    3.08e-16\n",
      "n_p_ecg_p_03     -0.1092      0.101     -1.083      0.279      -0.307       0.089\n",
      "n_p_ecg_p_04    3.42e-17   1.36e-16      0.252      0.801   -2.32e-16    3.01e-16\n",
      "n_p_ecg_p_05  -3.797e-16   1.83e-16     -2.071      0.039    -7.4e-16   -1.95e-17\n",
      "n_p_ecg_p_06      0.1941      0.164      1.184      0.237      -0.128       0.516\n",
      "n_p_ecg_p_07      0.0682      0.059      1.157      0.248      -0.048       0.184\n",
      "n_p_ecg_p_08     -0.7136      0.178     -4.012      0.000      -1.063      -0.364\n",
      "n_p_ecg_p_09  -8.028e-17   1.03e-16     -0.781      0.435   -2.82e-16    1.22e-16\n",
      "n_p_ecg_p_10     -0.1403      0.143     -0.984      0.326      -0.420       0.140\n",
      "n_p_ecg_p_11      0.0035      0.087      0.040      0.968      -0.167       0.174\n",
      "n_p_ecg_p_12     -0.0763      0.060     -1.267      0.206      -0.195       0.042\n",
      "fibr_ter_01       0.0247      0.271      0.091      0.928      -0.508       0.557\n",
      "fibr_ter_02      -0.1901      0.103     -1.841      0.066      -0.393       0.013\n",
      "fibr_ter_03      -0.0281      0.055     -0.512      0.609      -0.136       0.080\n",
      "fibr_ter_05      -0.0603      0.297     -0.203      0.839      -0.645       0.524\n",
      "fibr_ter_06       0.2441      0.295      0.829      0.408      -0.335       0.823\n",
      "fibr_ter_07       0.1883      0.197      0.954      0.341      -0.200       0.576\n",
      "fibr_ter_08   -2.654e-17   1.13e-16     -0.236      0.814   -2.48e-16    1.95e-16\n",
      "GIPO_K           -0.0343      0.036     -0.958      0.338      -0.105       0.036\n",
      "K_BLOOD          -0.0307      0.025     -1.250      0.212      -0.079       0.018\n",
      "GIPER_NA         -0.1357      0.089     -1.525      0.128      -0.311       0.039\n",
      "NA_BLOOD         -0.0010      0.002     -0.474      0.635      -0.005       0.003\n",
      "ALT_BLOOD         0.0280      0.035      0.788      0.431      -0.042       0.098\n",
      "AST_BLOOD        -0.0533      0.065     -0.816      0.415      -0.182       0.075\n",
      "L_BLOOD          -0.0067      0.004     -1.738      0.083      -0.014       0.001\n",
      "ROE              -0.0017      0.001     -1.610      0.108      -0.004       0.000\n",
      "TIME_B_S          0.0079      0.004      1.773      0.077      -0.001       0.017\n",
      "R_AB_1_n         -0.0032      0.025     -0.125      0.900      -0.053       0.047\n",
      "R_AB_2_n          0.0090      0.046      0.194      0.846      -0.082       0.100\n",
      "R_AB_3_n          0.0063      0.061      0.103      0.918      -0.113       0.126\n",
      "NITR_S           -0.0425      0.044     -0.964      0.335      -0.129       0.044\n",
      "NA_R_1_n         -0.0348      0.023     -1.535      0.125      -0.079       0.010\n",
      "NA_R_2_n          0.0375      0.044      0.846      0.398      -0.050       0.125\n",
      "NA_R_3_n          0.0956      0.065      1.479      0.140      -0.031       0.223\n",
      "NOT_NA_1_n       -0.0091      0.020     -0.453      0.651      -0.049       0.030\n",
      "NOT_NA_2_n       -0.0497      0.044     -1.122      0.262      -0.137       0.037\n",
      "NOT_NA_3_n       -0.0291      0.045     -0.642      0.521      -0.118       0.060\n",
      "LID_S_n           0.0286      0.031      0.932      0.352      -0.032       0.089\n",
      "B_BLOK_S_n        0.0118      0.043      0.271      0.786      -0.073       0.097\n",
      "ANT_CA_S_n        0.0219      0.029      0.764      0.445      -0.034       0.078\n",
      "GEPAR_S_n        -0.0433      0.032     -1.345      0.179      -0.107       0.020\n",
      "ASP_S_n           0.0592      0.035      1.716      0.087      -0.009       0.127\n",
      "TIKL_S_n         -0.1033      0.084     -1.225      0.221      -0.269       0.062\n",
      "TRENT_S_n         0.0034      0.031      0.112      0.911      -0.057       0.063\n",
      "==============================================================================\n",
      "Omnibus:                      209.651   Durbin-Watson:                   0.685\n",
      "Prob(Omnibus):                  0.000   Jarque-Bera (JB):              678.551\n",
      "Skew:                          -1.850   Prob(JB):                    4.51e-148\n",
      "Kurtosis:                       7.030   Cond. No.                     6.56e+16\n",
      "==============================================================================\n",
      "\n",
      "Notes:\n",
      "[1] Standard Errors assume that the covariance matrix of the errors is correctly specified.\n",
      "[2] The smallest eigenvalue is 6.21e-27. This might indicate that there are\n",
      "strong multicollinearity problems or that the design matrix is singular.\n"
     ]
    }
   ],
   "source": [
    "print(log_model2.summary())"
   ]
  },
  {
   "cell_type": "code",
   "execution_count": 82,
   "metadata": {},
   "outputs": [],
   "source": [
    "import statsmodels.api as sm"
   ]
  },
  {
   "cell_type": "code",
   "execution_count": 98,
   "metadata": {},
   "outputs": [],
   "source": [
    "pvalues = log_model2.summary2().tables[1]['P>|t|'].to_frame()\n"
   ]
  },
  {
   "cell_type": "code",
   "execution_count": 107,
   "metadata": {},
   "outputs": [],
   "source": [
    "#how many insignificant variables\n",
    "insignificant = list(pvalues[pvalues['P>|t|'] >0.05].index)"
   ]
  },
  {
   "cell_type": "code",
   "execution_count": 108,
   "metadata": {},
   "outputs": [],
   "source": [
    "df_cc = df_cc.loc[:, ~df_cc.columns.isin(insignificant)]"
   ]
  },
  {
   "cell_type": "code",
   "execution_count": 109,
   "metadata": {},
   "outputs": [],
   "source": [
    "X_train, X_test, y_train, y_test = train_test_split(df_cc.loc[:, df_cc.columns != 'target'], df_cc['target'], test_size=0.3)"
   ]
  },
  {
   "cell_type": "code",
   "execution_count": 111,
   "metadata": {},
   "outputs": [],
   "source": [
    "X2 = sm.add_constant(X_train)\n",
    "log_model = sm.OLS(y_train, X2)\n",
    "log_model2 = log_model.fit()"
   ]
  },
  {
   "cell_type": "code",
   "execution_count": 112,
   "metadata": {},
   "outputs": [
    {
     "name": "stdout",
     "output_type": "stream",
     "text": [
      "                            OLS Regression Results                            \n",
      "==============================================================================\n",
      "Dep. Variable:                 target   R-squared:                       0.145\n",
      "Model:                            OLS   Adj. R-squared:                  0.112\n",
      "Method:                 Least Squares   F-statistic:                     4.415\n",
      "Date:                Sat, 11 Nov 2023   Prob (F-statistic):           2.59e-07\n",
      "Time:                        19:47:19   Log-Likelihood:                -22.615\n",
      "No. Observations:                 380   AIC:                             75.23\n",
      "Df Residuals:                     365   BIC:                             134.3\n",
      "Df Model:                          14                                         \n",
      "Covariance Type:            nonrobust                                         \n",
      "=================================================================================\n",
      "                    coef    std err          t      P>|t|      [0.025      0.975]\n",
      "---------------------------------------------------------------------------------\n",
      "const             1.1305      0.161      7.008      0.000       0.813       1.448\n",
      "AGE              -0.0029      0.001     -2.300      0.022      -0.005      -0.000\n",
      "STENOK_AN        -0.0155      0.009     -1.758      0.080      -0.033       0.002\n",
      "FK_STENOK         0.0408      0.021      1.963      0.050   -6.84e-05       0.082\n",
      "IBS_POST         -0.0381      0.019     -2.052      0.041      -0.075      -0.002\n",
      "nr_01             0.8568      0.307      2.790      0.006       0.253       1.461\n",
      "nr_04            -0.1225      0.179     -0.685      0.494      -0.474       0.229\n",
      "endocr_01        -0.1259      0.037     -3.378      0.001      -0.199      -0.053\n",
      "S_AD_ORIT         0.0009      0.001      1.696      0.091      -0.000       0.002\n",
      "ant_im           -0.0216      0.008     -2.668      0.008      -0.038      -0.006\n",
      "ritm_ecg_p_01    -0.0609      0.134     -0.453      0.651      -0.325       0.203\n",
      "ritm_ecg_p_02    -0.1477      0.160     -0.921      0.357      -0.463       0.168\n",
      "ritm_ecg_p_07    -0.0737      0.137     -0.537      0.592      -0.344       0.196\n",
      "ritm_ecg_p_08    -0.1030      0.151     -0.684      0.494      -0.399       0.193\n",
      "n_p_ecg_p_05           0          0        nan        nan           0           0\n",
      "n_p_ecg_p_08     -0.5861      0.157     -3.736      0.000      -0.895      -0.278\n",
      "==============================================================================\n",
      "Omnibus:                      202.589   Durbin-Watson:                   2.037\n",
      "Prob(Omnibus):                  0.000   Jarque-Bera (JB):              886.596\n",
      "Skew:                          -2.435   Prob(JB):                    3.01e-193\n",
      "Kurtosis:                       8.682   Cond. No.                          inf\n",
      "==============================================================================\n",
      "\n",
      "Notes:\n",
      "[1] Standard Errors assume that the covariance matrix of the errors is correctly specified.\n",
      "[2] The smallest eigenvalue is      0. This might indicate that there are\n",
      "strong multicollinearity problems or that the design matrix is singular.\n"
     ]
    },
    {
     "name": "stderr",
     "output_type": "stream",
     "text": [
      "/Users/lilimatic/opt/anaconda3/lib/python3.8/site-packages/statsmodels/regression/linear_model.py:1860: RuntimeWarning: divide by zero encountered in double_scalars\n",
      "  return np.sqrt(eigvals[0]/eigvals[-1])\n"
     ]
    }
   ],
   "source": [
    "print(log_model2.summary())"
   ]
  },
  {
   "cell_type": "code",
   "execution_count": null,
   "metadata": {},
   "outputs": [],
   "source": []
  }
 ],
 "metadata": {
  "kernelspec": {
   "display_name": "Python 3",
   "language": "python",
   "name": "python3"
  },
  "language_info": {
   "codemirror_mode": {
    "name": "ipython",
    "version": 3
   },
   "file_extension": ".py",
   "mimetype": "text/x-python",
   "name": "python",
   "nbconvert_exporter": "python",
   "pygments_lexer": "ipython3",
   "version": "3.8.5"
  }
 },
 "nbformat": 4,
 "nbformat_minor": 4
}
